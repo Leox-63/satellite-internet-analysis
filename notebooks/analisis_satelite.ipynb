{
 "cells": [
  {
   "cell_type": "markdown",
   "id": "8747f873",
   "metadata": {},
   "source": [
    "# Análisis Profesional de Internet por Satélite\n",
    "## Plataforma de Análisis de Conectividad Satelital Global\n",
    "\n",
    "Este notebook implementa una plataforma completa de análisis de datos para la evaluación de servicios de internet satelital a nivel mundial, proporcionando insights estratégicos sobre cobertura, rendimiento y competitividad del mercado.\n",
    "\n",
    "### 🎯 Objetivos del Análisis\n",
    "- **Benchmarking**: Comparación objetiva entre proveedores de internet satelital\n",
    "- **Inteligencia de Mercado**: Análisis competitivo y oportunidades de negocio  \n",
    "- **Evaluación de Cobertura**: Mapeo geográfico de disponibilidad de servicios\n",
    "- **Análisis de Rendimiento**: Métricas de velocidad, latencia y calidad de servicio\n",
    "\n",
    "### 🔬 Metodología\n",
    "1. **Ingesta de Datos**: Pipeline automatizado de descarga y procesamiento\n",
    "2. **Procesamiento**: Limpieza, validación y estructuración de datasets\n",
    "3. **Análisis Estadístico**: Métricas descriptivas e inferenciales avanzadas\n",
    "4. **Visualización Interactiva**: Dashboards y mapas geoespaciales dinámicos\n",
    "5. **Generación de Reportes**: Conclusiones estratégicas y recomendaciones\n",
    "\n",
    "---"
   ]
  },
  {
   "cell_type": "code",
   "execution_count": 10,
   "id": "9916e694",
   "metadata": {},
   "outputs": [
    {
     "name": "stdout",
     "output_type": "stream",
     "text": [
      "✓ Librerías importadas exitosamente\n",
      "Pandas versión: 2.3.0\n",
      "NumPy versión: 2.3.0\n"
     ]
    }
   ],
   "source": [
    "# Importar librerías necesarias\n",
    "import sys\n",
    "import os\n",
    "\n",
    "# Agregar el directorio src al path para importar nuestros módulos\n",
    "sys.path.append('../src')\n",
    "\n",
    "# Librerías estándar\n",
    "import pandas as pd\n",
    "import numpy as np\n",
    "import matplotlib.pyplot as plt\n",
    "import seaborn as sns\n",
    "import requests\n",
    "import warnings\n",
    "\n",
    "# Configuraciones\n",
    "warnings.filterwarnings('ignore')\n",
    "plt.style.use('seaborn-v0_8')\n",
    "sns.set_palette(\"husl\")\n",
    "\n",
    "# Verificar que las librerías se importaron correctamente\n",
    "print(\"✓ Librerías importadas exitosamente\")\n",
    "print(f\"Pandas versión: {pd.__version__}\")\n",
    "print(f\"NumPy versión: {np.__version__}\")"
   ]
  },
  {
   "cell_type": "markdown",
   "id": "50382ade",
   "metadata": {},
   "source": [
    "## 1. Pipeline de Ingesta de Datos\n",
    "\n",
    "Implementamos nuestro sistema automatizado de descarga `data_downloader.py` para obtener datasets actualizados de internet satelital desde fuentes públicas confiables."
   ]
  },
  {
   "cell_type": "code",
   "execution_count": null,
   "id": "5c732e93",
   "metadata": {},
   "outputs": [
    {
     "name": "stderr",
     "output_type": "stream",
     "text": [
      "2025-06-19 23:42:32,745 - INFO - Iniciando descarga de datos de internet por satélite...\n",
      "2025-06-19 23:42:32,746 - INFO - Descargando datos desde: https://raw.githubusercontent.com/datasets/internet-users/master/data/internet-users.csv\n",
      "2025-06-19 23:42:32,746 - INFO - Descargando datos desde: https://raw.githubusercontent.com/datasets/internet-users/master/data/internet-users.csv\n",
      "2025-06-19 23:42:32,949 - WARNING - Intento 1 fallido para https://raw.githubusercontent.com/datasets/internet-users/master/data/internet-users.csv: 404 Client Error: Not Found for url: https://raw.githubusercontent.com/datasets/internet-users/master/data/internet-users.csv\n",
      "2025-06-19 23:42:32,949 - WARNING - Intento 1 fallido para https://raw.githubusercontent.com/datasets/internet-users/master/data/internet-users.csv: 404 Client Error: Not Found for url: https://raw.githubusercontent.com/datasets/internet-users/master/data/internet-users.csv\n"
     ]
    },
    {
     "name": "stdout",
     "output_type": "stream",
     "text": [
      "Inicializando sistema de descarga de datos...\n",
      "\n",
      "Archivos existentes: 1\n",
      "  - satellite_internet_sample.csv\n",
      "\n",
      "==================================================\n",
      "DESCARGANDO DATOS DE INTERNET SATELITAL\n",
      "==================================================\n"
     ]
    },
    {
     "name": "stderr",
     "output_type": "stream",
     "text": [
      "2025-06-19 23:42:33,950 - INFO - Descargando datos desde: https://raw.githubusercontent.com/datasets/internet-users/master/data/internet-users.csv\n",
      "2025-06-19 23:42:34,049 - WARNING - Intento 2 fallido para https://raw.githubusercontent.com/datasets/internet-users/master/data/internet-users.csv: 404 Client Error: Not Found for url: https://raw.githubusercontent.com/datasets/internet-users/master/data/internet-users.csv\n",
      "2025-06-19 23:42:34,049 - WARNING - Intento 2 fallido para https://raw.githubusercontent.com/datasets/internet-users/master/data/internet-users.csv: 404 Client Error: Not Found for url: https://raw.githubusercontent.com/datasets/internet-users/master/data/internet-users.csv\n",
      "2025-06-19 23:42:36,053 - INFO - Descargando datos desde: https://raw.githubusercontent.com/datasets/internet-users/master/data/internet-users.csv\n",
      "2025-06-19 23:42:36,053 - INFO - Descargando datos desde: https://raw.githubusercontent.com/datasets/internet-users/master/data/internet-users.csv\n",
      "2025-06-19 23:42:36,325 - WARNING - Intento 3 fallido para https://raw.githubusercontent.com/datasets/internet-users/master/data/internet-users.csv: 404 Client Error: Not Found for url: https://raw.githubusercontent.com/datasets/internet-users/master/data/internet-users.csv\n",
      "2025-06-19 23:42:36,327 - ERROR - No se pudo descargar https://raw.githubusercontent.com/datasets/internet-users/master/data/internet-users.csv después de 3 intentos\n",
      "2025-06-19 23:42:36,327 - INFO - Descargando datos desde: https://raw.githubusercontent.com/datasets/broadband-coverage/master/data/broadband-coverage.csv\n",
      "2025-06-19 23:42:36,325 - WARNING - Intento 3 fallido para https://raw.githubusercontent.com/datasets/internet-users/master/data/internet-users.csv: 404 Client Error: Not Found for url: https://raw.githubusercontent.com/datasets/internet-users/master/data/internet-users.csv\n",
      "2025-06-19 23:42:36,327 - ERROR - No se pudo descargar https://raw.githubusercontent.com/datasets/internet-users/master/data/internet-users.csv después de 3 intentos\n",
      "2025-06-19 23:42:36,327 - INFO - Descargando datos desde: https://raw.githubusercontent.com/datasets/broadband-coverage/master/data/broadband-coverage.csv\n",
      "2025-06-19 23:42:36,534 - WARNING - Intento 1 fallido para https://raw.githubusercontent.com/datasets/broadband-coverage/master/data/broadband-coverage.csv: 404 Client Error: Not Found for url: https://raw.githubusercontent.com/datasets/broadband-coverage/master/data/broadband-coverage.csv\n",
      "2025-06-19 23:42:36,534 - WARNING - Intento 1 fallido para https://raw.githubusercontent.com/datasets/broadband-coverage/master/data/broadband-coverage.csv: 404 Client Error: Not Found for url: https://raw.githubusercontent.com/datasets/broadband-coverage/master/data/broadband-coverage.csv\n",
      "2025-06-19 23:42:37,541 - INFO - Descargando datos desde: https://raw.githubusercontent.com/datasets/broadband-coverage/master/data/broadband-coverage.csv\n",
      "2025-06-19 23:42:37,541 - INFO - Descargando datos desde: https://raw.githubusercontent.com/datasets/broadband-coverage/master/data/broadband-coverage.csv\n",
      "2025-06-19 23:42:37,792 - WARNING - Intento 2 fallido para https://raw.githubusercontent.com/datasets/broadband-coverage/master/data/broadband-coverage.csv: 404 Client Error: Not Found for url: https://raw.githubusercontent.com/datasets/broadband-coverage/master/data/broadband-coverage.csv\n",
      "2025-06-19 23:42:37,792 - WARNING - Intento 2 fallido para https://raw.githubusercontent.com/datasets/broadband-coverage/master/data/broadband-coverage.csv: 404 Client Error: Not Found for url: https://raw.githubusercontent.com/datasets/broadband-coverage/master/data/broadband-coverage.csv\n",
      "2025-06-19 23:42:39,793 - INFO - Descargando datos desde: https://raw.githubusercontent.com/datasets/broadband-coverage/master/data/broadband-coverage.csv\n",
      "2025-06-19 23:42:39,793 - INFO - Descargando datos desde: https://raw.githubusercontent.com/datasets/broadband-coverage/master/data/broadband-coverage.csv\n",
      "2025-06-19 23:42:39,892 - WARNING - Intento 3 fallido para https://raw.githubusercontent.com/datasets/broadband-coverage/master/data/broadband-coverage.csv: 404 Client Error: Not Found for url: https://raw.githubusercontent.com/datasets/broadband-coverage/master/data/broadband-coverage.csv\n",
      "2025-06-19 23:42:39,893 - ERROR - No se pudo descargar https://raw.githubusercontent.com/datasets/broadband-coverage/master/data/broadband-coverage.csv después de 3 intentos\n",
      "2025-06-19 23:42:39,897 - INFO - Datos de muestra creados: ../data\\satellite_internet_sample.csv\n",
      "2025-06-19 23:42:39,898 - INFO - Descarga completada. 1 datasets disponibles:\n",
      "2025-06-19 23:42:39,899 - INFO -   - satellite_sample: 50 filas, 8 columnas\n",
      "2025-06-19 23:42:39,892 - WARNING - Intento 3 fallido para https://raw.githubusercontent.com/datasets/broadband-coverage/master/data/broadband-coverage.csv: 404 Client Error: Not Found for url: https://raw.githubusercontent.com/datasets/broadband-coverage/master/data/broadband-coverage.csv\n",
      "2025-06-19 23:42:39,893 - ERROR - No se pudo descargar https://raw.githubusercontent.com/datasets/broadband-coverage/master/data/broadband-coverage.csv después de 3 intentos\n",
      "2025-06-19 23:42:39,897 - INFO - Datos de muestra creados: ../data\\satellite_internet_sample.csv\n",
      "2025-06-19 23:42:39,898 - INFO - Descarga completada. 1 datasets disponibles:\n",
      "2025-06-19 23:42:39,899 - INFO -   - satellite_sample: 50 filas, 8 columnas\n"
     ]
    },
    {
     "name": "stdout",
     "output_type": "stream",
     "text": [
      "\n",
      "✓ Descarga completada!\n",
      "✓ 1 datasets disponibles para análisis\n"
     ]
    }
   ],
   "source": [
    "from data_downloader import SatelliteDataDownloader\n",
    "\n",
    "# Configurar pipeline de ingesta de datos\n",
    "print(\"⚙️  Configurando pipeline de ingesta de datos...\")\n",
    "downloader = SatelliteDataDownloader(data_dir=\"../data\")\n",
    "\n",
    "# Auditoría de datasets existentes\n",
    "existing_files = downloader.get_available_files()\n",
    "print(f\"\\n📂 Datasets en repositorio local: {len(existing_files)}\")\n",
    "for file in existing_files:\n",
    "    print(f\"  - {file}\")\n",
    "\n",
    "print(\"\\n\" + \"=\"*50)\n",
    "print(\"🚀 EJECUTANDO PIPELINE DE DESCARGA\")\n",
    "print(\"=\"*50)\n",
    "\n",
    "# Ejecutar descarga automatizada de todos los datasets\n",
    "datasets = downloader.download_all_data()\n",
    "\n",
    "print(f\"\\n✅ Pipeline completado exitosamente!\")\n",
    "print(f\"📊 {len(datasets)} datasets disponibles para análisis estratégico\")"
   ]
  },
  {
   "cell_type": "markdown",
   "id": "f3f80a6e",
   "metadata": {},
   "source": [
    "## 2. Procesamiento y Carga de Datasets\n",
    "\n",
    "Procesamos los datasets descargados aplicando técnicas de limpieza y validación para garantizar la calidad de los datos."
   ]
  },
  {
   "cell_type": "code",
   "execution_count": 12,
   "id": "51ef008b",
   "metadata": {},
   "outputs": [
    {
     "name": "stdout",
     "output_type": "stream",
     "text": [
      "📁 Cargando datasets desde archivos CSV:\n",
      "----------------------------------------\n",
      "✓ satellite_internet_sample\n",
      "  Dimensiones: (50, 8)\n",
      "  Columnas: ['country', 'provider', 'coverage_percent', 'avg_download_speed_mbps', 'avg_latency_ms', 'subscribers', 'monthly_cost_usd', 'year']\n",
      "\n",
      "📊 Total datasets cargados: 1\n",
      "\n",
      "🛰️  Dataset principal: 50 registros, 8 columnas\n"
     ]
    }
   ],
   "source": [
    "# Cargar datos desde los archivos CSV descargados\n",
    "data_dir = \"../data\"\n",
    "\n",
    "# Encontrar y cargar archivos CSV\n",
    "csv_files = [f for f in os.listdir(data_dir) if f.endswith('.csv')]\n",
    "loaded_datasets = {}\n",
    "\n",
    "print(\"📁 Cargando datasets desde archivos CSV:\")\n",
    "print(\"-\" * 40)\n",
    "\n",
    "for csv_file in csv_files:\n",
    "    try:\n",
    "        file_path = os.path.join(data_dir, csv_file)\n",
    "        dataset_name = csv_file.replace('.csv', '')\n",
    "        df = pd.read_csv(file_path)\n",
    "        loaded_datasets[dataset_name] = df\n",
    "        \n",
    "        print(f\"✓ {dataset_name}\")\n",
    "        print(f\"  Dimensiones: {df.shape}\")\n",
    "        print(f\"  Columnas: {list(df.columns)}\")\n",
    "        print()\n",
    "        \n",
    "    except Exception as e:\n",
    "        print(f\"✗ Error cargando {csv_file}: {e}\")\n",
    "\n",
    "print(f\"📊 Total datasets cargados: {len(loaded_datasets)}\")\n",
    "\n",
    "# Mostrar el dataset principal (datos de satélite)\n",
    "if 'satellite_internet_sample' in loaded_datasets:\n",
    "    main_df = loaded_datasets['satellite_internet_sample']\n",
    "    print(f\"\\n🛰️  Dataset principal: {main_df.shape[0]} registros, {main_df.shape[1]} columnas\")\n",
    "else:\n",
    "    # Usar el primer dataset disponible\n",
    "    main_df = list(loaded_datasets.values())[0] if loaded_datasets else pd.DataFrame()\n",
    "    print(f\"\\n📋 Usando dataset: {main_df.shape[0]} registros, {main_df.shape[1]} columnas\")"
   ]
  },
  {
   "cell_type": "markdown",
   "id": "738b8309",
   "metadata": {},
   "source": [
    "## 3. Análisis Exploratorio de Datos (EDA)\n",
    "\n",
    "Ejecutamos un análisis exploratorio exhaustivo para comprender las características estructurales y estadísticas de los datasets."
   ]
  },
  {
   "cell_type": "code",
   "execution_count": null,
   "id": "bfeeb81d",
   "metadata": {},
   "outputs": [
    {
     "name": "stdout",
     "output_type": "stream",
     "text": [
      "🔍 EXPLORACIÓN DE DATOS\n",
      "==================================================\n",
      "📋 Información General:\n",
      "   • Filas: 50\n",
      "   • Columnas: 8\n",
      "   • Memoria: 8.7 KB\n",
      "\n",
      "📄 Primeras 5 filas:\n"
     ]
    },
    {
     "data": {
      "text/html": [
       "<div>\n",
       "<style scoped>\n",
       "    .dataframe tbody tr th:only-of-type {\n",
       "        vertical-align: middle;\n",
       "    }\n",
       "\n",
       "    .dataframe tbody tr th {\n",
       "        vertical-align: top;\n",
       "    }\n",
       "\n",
       "    .dataframe thead th {\n",
       "        text-align: right;\n",
       "    }\n",
       "</style>\n",
       "<table border=\"1\" class=\"dataframe\">\n",
       "  <thead>\n",
       "    <tr style=\"text-align: right;\">\n",
       "      <th></th>\n",
       "      <th>country</th>\n",
       "      <th>provider</th>\n",
       "      <th>coverage_percent</th>\n",
       "      <th>avg_download_speed_mbps</th>\n",
       "      <th>avg_latency_ms</th>\n",
       "      <th>subscribers</th>\n",
       "      <th>monthly_cost_usd</th>\n",
       "      <th>year</th>\n",
       "    </tr>\n",
       "  </thead>\n",
       "  <tbody>\n",
       "    <tr>\n",
       "      <th>0</th>\n",
       "      <td>USA</td>\n",
       "      <td>Starlink</td>\n",
       "      <td>27.97</td>\n",
       "      <td>98.11</td>\n",
       "      <td>561.48</td>\n",
       "      <td>441498</td>\n",
       "      <td>199.15</td>\n",
       "      <td>2024</td>\n",
       "    </tr>\n",
       "    <tr>\n",
       "      <th>1</th>\n",
       "      <td>USA</td>\n",
       "      <td>OneWeb</td>\n",
       "      <td>31.00</td>\n",
       "      <td>38.95</td>\n",
       "      <td>577.29</td>\n",
       "      <td>421370</td>\n",
       "      <td>105.13</td>\n",
       "      <td>2024</td>\n",
       "    </tr>\n",
       "    <tr>\n",
       "      <th>2</th>\n",
       "      <td>USA</td>\n",
       "      <td>Viasat</td>\n",
       "      <td>71.99</td>\n",
       "      <td>113.76</td>\n",
       "      <td>423.46</td>\n",
       "      <td>479265</td>\n",
       "      <td>108.58</td>\n",
       "      <td>2024</td>\n",
       "    </tr>\n",
       "    <tr>\n",
       "      <th>3</th>\n",
       "      <td>USA</td>\n",
       "      <td>HughesNet</td>\n",
       "      <td>60.58</td>\n",
       "      <td>37.85</td>\n",
       "      <td>406.40</td>\n",
       "      <td>47219</td>\n",
       "      <td>89.67</td>\n",
       "      <td>2024</td>\n",
       "    </tr>\n",
       "    <tr>\n",
       "      <th>4</th>\n",
       "      <td>USA</td>\n",
       "      <td>Iridium</td>\n",
       "      <td>31.46</td>\n",
       "      <td>43.61</td>\n",
       "      <td>122.26</td>\n",
       "      <td>362163</td>\n",
       "      <td>164.06</td>\n",
       "      <td>2024</td>\n",
       "    </tr>\n",
       "  </tbody>\n",
       "</table>\n",
       "</div>"
      ],
      "text/plain": [
       "  country   provider  coverage_percent  avg_download_speed_mbps  \\\n",
       "0     USA   Starlink             27.97                    98.11   \n",
       "1     USA     OneWeb             31.00                    38.95   \n",
       "2     USA     Viasat             71.99                   113.76   \n",
       "3     USA  HughesNet             60.58                    37.85   \n",
       "4     USA    Iridium             31.46                    43.61   \n",
       "\n",
       "   avg_latency_ms  subscribers  monthly_cost_usd  year  \n",
       "0          561.48       441498            199.15  2024  \n",
       "1          577.29       421370            105.13  2024  \n",
       "2          423.46       479265            108.58  2024  \n",
       "3          406.40        47219             89.67  2024  \n",
       "4          122.26       362163            164.06  2024  "
      ]
     },
     "metadata": {},
     "output_type": "display_data"
    },
    {
     "name": "stdout",
     "output_type": "stream",
     "text": [
      "\n",
      "🏷️  Tipos de datos:\n",
      "country                     object\n",
      "provider                    object\n",
      "coverage_percent           float64\n",
      "avg_download_speed_mbps    float64\n",
      "avg_latency_ms             float64\n",
      "subscribers                  int64\n",
      "monthly_cost_usd           float64\n",
      "year                         int64\n",
      "dtype: object\n",
      "\n",
      "📊 Estadísticas descriptivas (6 columnas numéricas):\n"
     ]
    },
    {
     "data": {
      "text/html": [
       "<div>\n",
       "<style scoped>\n",
       "    .dataframe tbody tr th:only-of-type {\n",
       "        vertical-align: middle;\n",
       "    }\n",
       "\n",
       "    .dataframe tbody tr th {\n",
       "        vertical-align: top;\n",
       "    }\n",
       "\n",
       "    .dataframe thead th {\n",
       "        text-align: right;\n",
       "    }\n",
       "</style>\n",
       "<table border=\"1\" class=\"dataframe\">\n",
       "  <thead>\n",
       "    <tr style=\"text-align: right;\">\n",
       "      <th></th>\n",
       "      <th>coverage_percent</th>\n",
       "      <th>avg_download_speed_mbps</th>\n",
       "      <th>avg_latency_ms</th>\n",
       "      <th>subscribers</th>\n",
       "      <th>monthly_cost_usd</th>\n",
       "      <th>year</th>\n",
       "    </tr>\n",
       "  </thead>\n",
       "  <tbody>\n",
       "    <tr>\n",
       "      <th>count</th>\n",
       "      <td>50.00</td>\n",
       "      <td>50.00</td>\n",
       "      <td>50.00</td>\n",
       "      <td>50.00</td>\n",
       "      <td>50.00</td>\n",
       "      <td>50.0</td>\n",
       "    </tr>\n",
       "    <tr>\n",
       "      <th>mean</th>\n",
       "      <td>55.53</td>\n",
       "      <td>85.85</td>\n",
       "      <td>306.49</td>\n",
       "      <td>265220.32</td>\n",
       "      <td>120.95</td>\n",
       "      <td>2024.0</td>\n",
       "    </tr>\n",
       "    <tr>\n",
       "      <th>std</th>\n",
       "      <td>20.85</td>\n",
       "      <td>33.59</td>\n",
       "      <td>182.38</td>\n",
       "      <td>150034.12</td>\n",
       "      <td>45.38</td>\n",
       "      <td>0.0</td>\n",
       "    </tr>\n",
       "    <tr>\n",
       "      <th>min</th>\n",
       "      <td>20.97</td>\n",
       "      <td>27.24</td>\n",
       "      <td>36.95</td>\n",
       "      <td>14545.00</td>\n",
       "      <td>50.75</td>\n",
       "      <td>2024.0</td>\n",
       "    </tr>\n",
       "    <tr>\n",
       "      <th>25%</th>\n",
       "      <td>40.72</td>\n",
       "      <td>64.31</td>\n",
       "      <td>130.14</td>\n",
       "      <td>153532.50</td>\n",
       "      <td>84.53</td>\n",
       "      <td>2024.0</td>\n",
       "    </tr>\n",
       "    <tr>\n",
       "      <th>50%</th>\n",
       "      <td>53.68</td>\n",
       "      <td>90.82</td>\n",
       "      <td>315.32</td>\n",
       "      <td>266494.00</td>\n",
       "      <td>113.11</td>\n",
       "      <td>2024.0</td>\n",
       "    </tr>\n",
       "    <tr>\n",
       "      <th>75%</th>\n",
       "      <td>72.58</td>\n",
       "      <td>113.15</td>\n",
       "      <td>472.59</td>\n",
       "      <td>380046.00</td>\n",
       "      <td>161.87</td>\n",
       "      <td>2024.0</td>\n",
       "    </tr>\n",
       "    <tr>\n",
       "      <th>max</th>\n",
       "      <td>94.62</td>\n",
       "      <td>149.81</td>\n",
       "      <td>578.49</td>\n",
       "      <td>499380.00</td>\n",
       "      <td>199.15</td>\n",
       "      <td>2024.0</td>\n",
       "    </tr>\n",
       "  </tbody>\n",
       "</table>\n",
       "</div>"
      ],
      "text/plain": [
       "       coverage_percent  avg_download_speed_mbps  avg_latency_ms  subscribers  \\\n",
       "count             50.00                    50.00           50.00        50.00   \n",
       "mean              55.53                    85.85          306.49    265220.32   \n",
       "std               20.85                    33.59          182.38    150034.12   \n",
       "min               20.97                    27.24           36.95     14545.00   \n",
       "25%               40.72                    64.31          130.14    153532.50   \n",
       "50%               53.68                    90.82          315.32    266494.00   \n",
       "75%               72.58                   113.15          472.59    380046.00   \n",
       "max               94.62                   149.81          578.49    499380.00   \n",
       "\n",
       "       monthly_cost_usd    year  \n",
       "count             50.00    50.0  \n",
       "mean             120.95  2024.0  \n",
       "std               45.38     0.0  \n",
       "min               50.75  2024.0  \n",
       "25%               84.53  2024.0  \n",
       "50%              113.11  2024.0  \n",
       "75%              161.87  2024.0  \n",
       "max              199.15  2024.0  "
      ]
     },
     "metadata": {},
     "output_type": "display_data"
    },
    {
     "name": "stdout",
     "output_type": "stream",
     "text": [
      "\n",
      "📂 Valores únicos en columnas categóricas:\n",
      "   • country: 10 valores únicos\n",
      "     Valores: ['USA', 'Canada', 'Brazil', 'UK', 'Germany', 'Japan', 'Australia', 'India', 'China', 'Mexico']\n",
      "   • provider: 5 valores únicos\n",
      "     Valores: ['Starlink', 'OneWeb', 'Viasat', 'HughesNet', 'Iridium']\n",
      "\n",
      "✅ No hay valores faltantes\n"
     ]
    }
   ],
   "source": [
    "# Ejecutar análisis exploratorio del dataset principal\n",
    "if not main_df.empty:\n",
    "    print(\"🔬 ANÁLISIS EXPLORATORIO DE DATOS (EDA)\")\n",
    "    print(\"=\" * 50)\n",
    "    \n",
    "    # Perfil general del dataset\n",
    "    print(\"📊 Perfil del Dataset:\")\n",
    "    print(f\"   • Registros totales: {main_df.shape[0]:,}\")\n",
    "    print(f\"   • Variables: {main_df.shape[1]}\")\n",
    "    print(f\"   • Uso de memoria: {main_df.memory_usage(deep=True).sum() / 1024:.1f} KB\")\n",
    "    \n",
    "    # Vista preliminar de los datos\n",
    "    print(\"\\n🔍 Vista Preliminar:\")\n",
    "    display(main_df.head())\n",
    "    \n",
    "    # Análisis de tipos de datos\n",
    "    print(\"\\n🏷️  Esquema de Datos:\")\n",
    "    print(main_df.dtypes)\n",
    "    \n",
    "    # Estadísticas descriptivas para variables numéricas\n",
    "    numeric_cols = main_df.select_dtypes(include=[np.number]).columns\n",
    "    if len(numeric_cols) > 0:\n",
    "        print(f\"\\n📈 Estadísticas Descriptivas ({len(numeric_cols)} variables numéricas):\")\n",
    "        display(main_df[numeric_cols].describe().round(2))\n",
    "    \n",
    "    # Análisis de cardinalidad para variables categóricas\n",
    "    categorical_cols = main_df.select_dtypes(include=['object']).columns\n",
    "    if len(categorical_cols) > 0:\n",
    "        print(f\"\\n📂 Análisis de Cardinalidad:\")\n",
    "        for col in categorical_cols:\n",
    "            unique_count = main_df[col].nunique()\n",
    "            print(f\"   • {col}: {unique_count} valores únicos\")\n",
    "            if unique_count <= 10:\n",
    "                print(f\"     Categorías: {list(main_df[col].unique())}\")\n",
    "    \n",
    "    # Auditoría de calidad de datos\n",
    "    missing_data = main_df.isnull().sum()\n",
    "    if missing_data.sum() > 0:\n",
    "        print(f\"\\n⚠️  Auditoría de Calidad - Valores Faltantes:\")\n",
    "        for col, missing in missing_data.items():\n",
    "            if missing > 0:\n",
    "                percentage = (missing / len(main_df)) * 100\n",
    "                print(f\"   • {col}: {missing} registros ({percentage:.1f}%)\")\n",
    "    else:\n",
    "        print(\"\\n✅ Calidad de Datos: Sin valores faltantes detectados\")\n",
    "\n",
    "else:\n",
    "    print(\"❌ Dataset no disponible para análisis exploratorio\")"
   ]
  },
  {
   "cell_type": "markdown",
   "id": "dadc5ba0",
   "metadata": {},
   "source": [
    "## 4. Análisis Estadístico y Métricas de Rendimiento\n",
    "\n",
    "Implementamos nuestro motor de análisis `data_analyzer.py` para generar métricas estadísticas avanzadas y KPIs del sector satelital."
   ]
  },
  {
   "cell_type": "code",
   "execution_count": null,
   "id": "30928bec",
   "metadata": {},
   "outputs": [
    {
     "name": "stderr",
     "output_type": "stream",
     "text": [
      "2025-06-19 23:42:39,982 - INFO - Dataset cargado: satellite_internet_sample (50 filas)\n"
     ]
    },
    {
     "name": "stdout",
     "output_type": "stream",
     "text": [
      "🧮 Inicializando sistema de análisis...\n",
      "\n",
      "📈 ANÁLISIS ESTADÍSTICO AVANZADO\n",
      "==================================================\n",
      "\n",
      "📊 Dataset: satellite_internet_sample\n",
      "   • Registros: 50\n",
      "   • Columnas numéricas: 6\n",
      "   • Columnas categóricas: 2\n",
      "   • coverage_percent:\n",
      "     - Promedio: 55.53\n",
      "     - Mediana: 53.67\n",
      "     - Rango: 20.97 - 94.62\n",
      "   • avg_download_speed_mbps:\n",
      "     - Promedio: 85.85\n",
      "     - Mediana: 90.82\n",
      "     - Rango: 27.24 - 149.81\n",
      "   • avg_latency_ms:\n",
      "     - Promedio: 306.49\n",
      "     - Mediana: 315.32\n",
      "     - Rango: 36.95 - 578.49\n",
      "   • monthly_cost_usd:\n",
      "     - Promedio: 120.95\n",
      "     - Mediana: 113.11\n",
      "     - Rango: 50.75 - 199.15\n",
      "\n",
      "✅ Análisis estadístico completado\n"
     ]
    }
   ],
   "source": [
    "# Configurar motor de análisis estadístico\n",
    "from data_analyzer import SatelliteDataAnalyzer\n",
    "\n",
    "# Instanciar el analizador avanzado\n",
    "print(\"🧮 Configurando motor de análisis estadístico...\")\n",
    "analyzer = SatelliteDataAnalyzer(data_dir=\"../data\")\n",
    "\n",
    "print(\"\\n📊 EJECUCIÓN DE ANÁLISIS ESTADÍSTICO AVANZADO\")\n",
    "print(\"=\" * 50)\n",
    "\n",
    "# Generar estadísticas fundamentales\n",
    "basic_stats = analyzer.get_basic_statistics()\n",
    "\n",
    "# Reporte estadístico por dataset\n",
    "for dataset_name, stats in basic_stats.items():\n",
    "    print(f\"\\n📈 Dataset: {dataset_name}\")\n",
    "    print(f\"   • Observaciones: {stats['total_records']:,}\")\n",
    "    print(f\"   • Variables numéricas: {len(stats['numeric_columns'])}\")\n",
    "    print(f\"   • Variables categóricas: {len(stats['categorical_columns'])}\")\n",
    "    \n",
    "    # KPIs críticos del negocio satelital\n",
    "    if 'numeric_statistics' in stats:\n",
    "        key_metrics = ['coverage_percent', 'avg_download_speed_mbps', 'avg_latency_ms', 'monthly_cost_usd']\n",
    "        for metric in key_metrics:\n",
    "            if metric in stats['numeric_statistics']:\n",
    "                metric_stats = stats['numeric_statistics'][metric]\n",
    "                print(f\"   • {metric}:\")\n",
    "                print(f\"     - Media: {metric_stats['mean']:.2f}\")\n",
    "                print(f\"     - Mediana: {metric_stats['median']:.2f}\")\n",
    "                print(f\"     - Rango: {metric_stats['min']:.2f} - {metric_stats['max']:.2f}\")\n",
    "\n",
    "print(\"\\n✅ Análisis estadístico ejecutado correctamente\")"
   ]
  },
  {
   "cell_type": "code",
   "execution_count": null,
   "id": "b7fb5e08",
   "metadata": {},
   "outputs": [
    {
     "name": "stdout",
     "output_type": "stream",
     "text": [
      "🛰️  ANÁLISIS DE COBERTURA SATELITAL\n",
      "==================================================\n",
      "\n",
      "🌍 Top 10 países por cobertura promedio:\n",
      "    1. Canada: 68.5%\n",
      "    2. UK: 67.1%\n",
      "    3. China: 66.8%\n",
      "    4. Australia: 59.4%\n",
      "    5. Brazil: 59.2%\n",
      "    6. Germany: 50.7%\n",
      "    7. Mexico: 50.7%\n",
      "    8. India: 45.9%\n",
      "    9. USA: 44.6%\n",
      "   10. Japan: 42.2%\n",
      "\n",
      "🔗 Correlaciones importantes:\n",
      "\n",
      "🏢 COMPARACIÓN DE PROVEEDORES\n",
      "==================================================\n",
      "\n",
      "📋 Resumen por proveedor:\n"
     ]
    },
    {
     "data": {
      "text/html": [
       "<div>\n",
       "<style scoped>\n",
       "    .dataframe tbody tr th:only-of-type {\n",
       "        vertical-align: middle;\n",
       "    }\n",
       "\n",
       "    .dataframe tbody tr th {\n",
       "        vertical-align: top;\n",
       "    }\n",
       "\n",
       "    .dataframe thead th {\n",
       "        text-align: right;\n",
       "    }\n",
       "</style>\n",
       "<table border=\"1\" class=\"dataframe\">\n",
       "  <thead>\n",
       "    <tr style=\"text-align: right;\">\n",
       "      <th></th>\n",
       "      <th>countries_served</th>\n",
       "      <th>total_subscribers</th>\n",
       "      <th>avg_coverage</th>\n",
       "      <th>avg_speed</th>\n",
       "      <th>avg_cost</th>\n",
       "      <th>avg_latency</th>\n",
       "    </tr>\n",
       "  </thead>\n",
       "  <tbody>\n",
       "    <tr>\n",
       "      <th>Starlink</th>\n",
       "      <td>10.0</td>\n",
       "      <td>2396510.0</td>\n",
       "      <td>55.33</td>\n",
       "      <td>84.51</td>\n",
       "      <td>130.60</td>\n",
       "      <td>259.78</td>\n",
       "    </tr>\n",
       "    <tr>\n",
       "      <th>OneWeb</th>\n",
       "      <td>10.0</td>\n",
       "      <td>2379349.0</td>\n",
       "      <td>57.74</td>\n",
       "      <td>77.09</td>\n",
       "      <td>129.61</td>\n",
       "      <td>282.78</td>\n",
       "    </tr>\n",
       "    <tr>\n",
       "      <th>Viasat</th>\n",
       "      <td>10.0</td>\n",
       "      <td>2681354.0</td>\n",
       "      <td>54.12</td>\n",
       "      <td>95.97</td>\n",
       "      <td>124.96</td>\n",
       "      <td>281.23</td>\n",
       "    </tr>\n",
       "    <tr>\n",
       "      <th>HughesNet</th>\n",
       "      <td>10.0</td>\n",
       "      <td>3349904.0</td>\n",
       "      <td>48.79</td>\n",
       "      <td>87.86</td>\n",
       "      <td>98.06</td>\n",
       "      <td>401.45</td>\n",
       "    </tr>\n",
       "    <tr>\n",
       "      <th>Iridium</th>\n",
       "      <td>10.0</td>\n",
       "      <td>2453899.0</td>\n",
       "      <td>61.67</td>\n",
       "      <td>83.84</td>\n",
       "      <td>121.51</td>\n",
       "      <td>307.21</td>\n",
       "    </tr>\n",
       "  </tbody>\n",
       "</table>\n",
       "</div>"
      ],
      "text/plain": [
       "           countries_served  total_subscribers  avg_coverage  avg_speed  \\\n",
       "Starlink               10.0          2396510.0         55.33      84.51   \n",
       "OneWeb                 10.0          2379349.0         57.74      77.09   \n",
       "Viasat                 10.0          2681354.0         54.12      95.97   \n",
       "HughesNet              10.0          3349904.0         48.79      87.86   \n",
       "Iridium                10.0          2453899.0         61.67      83.84   \n",
       "\n",
       "           avg_cost  avg_latency  \n",
       "Starlink     130.60       259.78  \n",
       "OneWeb       129.61       282.78  \n",
       "Viasat       124.96       281.23  \n",
       "HughesNet     98.06       401.45  \n",
       "Iridium      121.51       307.21  "
      ]
     },
     "metadata": {},
     "output_type": "display_data"
    },
    {
     "name": "stdout",
     "output_type": "stream",
     "text": [
      "\n",
      "🏆 Proveedor más rápido: Viasat (96.0 Mbps)\n",
      "💰 Proveedor más económico: HughesNet ($98.06/mes)\n",
      "📡 Mejor cobertura: Iridium (61.7%)\n",
      "\n",
      "✅ Análisis de cobertura y proveedores completado\n"
     ]
    }
   ],
   "source": [
    "# Análisis geoespacial de cobertura satelital\n",
    "coverage_analysis = analyzer.analyze_satellite_coverage()\n",
    "\n",
    "if coverage_analysis:\n",
    "    print(\"🗺️  ANÁLISIS GEOESPACIAL DE COBERTURA\")\n",
    "    print(\"=\" * 50)\n",
    "    \n",
    "    # Ranking de países por cobertura\n",
    "    if 'top_coverage_countries' in coverage_analysis:\n",
    "        print(\"\\n🌍 Ranking Global - Top 10 Países por Cobertura:\")\n",
    "        for i, (country, coverage) in enumerate(list(coverage_analysis['top_coverage_countries'].items())[:10], 1):\n",
    "            print(f\"   {i:2d}. {country}: {coverage:.1f}%\")\n",
    "    \n",
    "    # Análisis de correlaciones\n",
    "    if 'correlations' in coverage_analysis:\n",
    "        correlations = coverage_analysis['correlations']\n",
    "        print(\"\\n🔗 Correlaciones Estadísticamente Significativas:\")\n",
    "        \n",
    "        # Identificar correlaciones entre cobertura y métricas de rendimiento\n",
    "        if 'coverage_percent' in correlations:\n",
    "            coverage_corr = correlations['coverage_percent']\n",
    "            for metric, corr_value in coverage_corr.items():\n",
    "                if metric != 'coverage_percent' and abs(corr_value) > 0.3:\n",
    "                    direction = \"positiva fuerte\" if corr_value > 0.5 else \"positiva\" if corr_value > 0 else \"negativa fuerte\" if corr_value < -0.5 else \"negativa\"\n",
    "                    print(f\"   • Cobertura vs {metric}: r = {corr_value:.3f} ({direction})\")\n",
    "\n",
    "# Benchmarking competitivo entre proveedores\n",
    "provider_comparison = analyzer.compare_providers()\n",
    "\n",
    "if provider_comparison:\n",
    "    print(f\"\\n🏢 BENCHMARKING COMPETITIVO DE PROVEEDORES\")\n",
    "    print(\"=\" * 50)\n",
    "    \n",
    "    providers_df = pd.DataFrame(provider_comparison).T\n",
    "    \n",
    "    # Dashboard comparativo\n",
    "    if not providers_df.empty:\n",
    "        print(\"\\n📊 Dashboard Comparativo:\")\n",
    "        display(providers_df.round(2))\n",
    "        \n",
    "        # Líderes de mercado por categoría\n",
    "        if 'avg_speed' in providers_df.columns:\n",
    "            fastest = providers_df['avg_speed'].idxmax()\n",
    "            print(f\"\\n🚀 Líder en Velocidad: {fastest} ({providers_df.loc[fastest, 'avg_speed']:.1f} Mbps)\")\n",
    "        \n",
    "        if 'avg_cost' in providers_df.columns:\n",
    "            cheapest = providers_df['avg_cost'].idxmin()\n",
    "            print(f\"💰 Líder en Precio: {cheapest} (${providers_df.loc[cheapest, 'avg_cost']:.2f}/mes)\")\n",
    "        \n",
    "        if 'avg_coverage' in providers_df.columns:\n",
    "            best_coverage = providers_df['avg_coverage'].idxmax()\n",
    "            print(f\"📡 Líder en Cobertura: {best_coverage} ({providers_df.loc[best_coverage, 'avg_coverage']:.1f}%)\")\n",
    "\n",
    "print(\"\\n✅ Análisis geoespacial y benchmarking completados\")"
   ]
  },
  {
   "cell_type": "markdown",
   "id": "aaa378e2",
   "metadata": {},
   "source": [
    "## 5. Dashboard Interactivo y Visualizaciones Geoespaciales\n",
    "\n",
    "Implementamos nuestro motor de visualización `visualizer.py` para generar dashboards interactivos, mapas geoespaciales y gráficos de inteligencia de negocio."
   ]
  },
  {
   "cell_type": "markdown",
   "id": "db7b46ca",
   "metadata": {},
   "source": [
    "### 5.1 Mapa Geoespacial de Dominancia Competitiva\n",
    "\n",
    "Generamos un mapa mundial interactivo que visualiza la dominancia competitiva de cada proveedor satelital por región geográfica."
   ]
  },
  {
   "cell_type": "code",
   "execution_count": null,
   "id": "ea13db15",
   "metadata": {},
   "outputs": [
    {
     "name": "stdout",
     "output_type": "stream",
     "text": [
      "🗺️  CREANDO MAPA INTERACTIVO DE COBERTURA SATELITAL\n",
      "============================================================\n",
      "📊 Datos preparados para 10 países\n",
      "\n",
      "🏆 Top 5 países con mejor cobertura:\n",
      "   • Mexico: Viasat (94.6%)\n",
      "   • Canada: Starlink (90.2%)\n",
      "   • UK: Iridium (88.0%)\n",
      "   • Brazil: Starlink (87.7%)\n",
      "   • China: OneWeb (87.2%)\n"
     ]
    },
    {
     "data": {
      "application/vnd.plotly.v1+json": {
       "config": {
        "plotlyServerURL": "https://plot.ly"
       },
       "data": [
        {
         "colorscale": [
          [
           0,
           "rgb(141,211,199)"
          ],
          [
           1,
           "rgb(141,211,199)"
          ]
         ],
         "geo": "geo",
         "hovertemplate": "Proveedor=Iridium<br>country=%{location}<extra></extra>",
         "locationmode": "country names",
         "locations": [
          "Australia",
          "Germany",
          "Japan",
          "UK"
         ],
         "name": "Iridium",
         "showlegend": true,
         "showscale": false,
         "type": "choropleth",
         "z": [
          1,
          1,
          1,
          1
         ]
        },
        {
         "colorscale": [
          [
           0,
           "rgb(255,255,179)"
          ],
          [
           1,
           "rgb(255,255,179)"
          ]
         ],
         "geo": "geo",
         "hovertemplate": "Proveedor=Starlink<br>country=%{location}<extra></extra>",
         "locationmode": "country names",
         "locations": [
          "Brazil",
          "Canada"
         ],
         "name": "Starlink",
         "showlegend": true,
         "showscale": false,
         "type": "choropleth",
         "z": [
          1,
          1
         ]
        },
        {
         "colorscale": [
          [
           0,
           "rgb(190,186,218)"
          ],
          [
           1,
           "rgb(190,186,218)"
          ]
         ],
         "geo": "geo",
         "hovertemplate": "Proveedor=OneWeb<br>country=%{location}<extra></extra>",
         "locationmode": "country names",
         "locations": [
          "China"
         ],
         "name": "OneWeb",
         "showlegend": true,
         "showscale": false,
         "type": "choropleth",
         "z": [
          1
         ]
        },
        {
         "colorscale": [
          [
           0,
           "rgb(251,128,114)"
          ],
          [
           1,
           "rgb(251,128,114)"
          ]
         ],
         "geo": "geo",
         "hovertemplate": "Proveedor=HughesNet<br>country=%{location}<extra></extra>",
         "locationmode": "country names",
         "locations": [
          "India"
         ],
         "name": "HughesNet",
         "showlegend": true,
         "showscale": false,
         "type": "choropleth",
         "z": [
          1
         ]
        },
        {
         "colorscale": [
          [
           0,
           "rgb(128,177,211)"
          ],
          [
           1,
           "rgb(128,177,211)"
          ]
         ],
         "geo": "geo",
         "hovertemplate": "Proveedor=Viasat<br>country=%{location}<extra></extra>",
         "locationmode": "country names",
         "locations": [
          "Mexico",
          "USA"
         ],
         "name": "Viasat",
         "showlegend": true,
         "showscale": false,
         "type": "choropleth",
         "z": [
          1,
          1
         ]
        }
       ],
       "layout": {
        "geo": {
         "center": {},
         "domain": {
          "x": [
           0,
           1
          ],
          "y": [
           0,
           1
          ]
         },
         "projection": {
          "type": "equirectangular"
         },
         "showcoastlines": true,
         "showframe": false
        },
        "height": 600,
        "legend": {
         "title": {
          "text": "Proveedor"
         },
         "tracegroupgap": 0
        },
        "template": {
         "data": {
          "bar": [
           {
            "error_x": {
             "color": "#2a3f5f"
            },
            "error_y": {
             "color": "#2a3f5f"
            },
            "marker": {
             "line": {
              "color": "#E5ECF6",
              "width": 0.5
             },
             "pattern": {
              "fillmode": "overlay",
              "size": 10,
              "solidity": 0.2
             }
            },
            "type": "bar"
           }
          ],
          "barpolar": [
           {
            "marker": {
             "line": {
              "color": "#E5ECF6",
              "width": 0.5
             },
             "pattern": {
              "fillmode": "overlay",
              "size": 10,
              "solidity": 0.2
             }
            },
            "type": "barpolar"
           }
          ],
          "carpet": [
           {
            "aaxis": {
             "endlinecolor": "#2a3f5f",
             "gridcolor": "white",
             "linecolor": "white",
             "minorgridcolor": "white",
             "startlinecolor": "#2a3f5f"
            },
            "baxis": {
             "endlinecolor": "#2a3f5f",
             "gridcolor": "white",
             "linecolor": "white",
             "minorgridcolor": "white",
             "startlinecolor": "#2a3f5f"
            },
            "type": "carpet"
           }
          ],
          "choropleth": [
           {
            "colorbar": {
             "outlinewidth": 0,
             "ticks": ""
            },
            "type": "choropleth"
           }
          ],
          "contour": [
           {
            "colorbar": {
             "outlinewidth": 0,
             "ticks": ""
            },
            "colorscale": [
             [
              0,
              "#0d0887"
             ],
             [
              0.1111111111111111,
              "#46039f"
             ],
             [
              0.2222222222222222,
              "#7201a8"
             ],
             [
              0.3333333333333333,
              "#9c179e"
             ],
             [
              0.4444444444444444,
              "#bd3786"
             ],
             [
              0.5555555555555556,
              "#d8576b"
             ],
             [
              0.6666666666666666,
              "#ed7953"
             ],
             [
              0.7777777777777778,
              "#fb9f3a"
             ],
             [
              0.8888888888888888,
              "#fdca26"
             ],
             [
              1,
              "#f0f921"
             ]
            ],
            "type": "contour"
           }
          ],
          "contourcarpet": [
           {
            "colorbar": {
             "outlinewidth": 0,
             "ticks": ""
            },
            "type": "contourcarpet"
           }
          ],
          "heatmap": [
           {
            "colorbar": {
             "outlinewidth": 0,
             "ticks": ""
            },
            "colorscale": [
             [
              0,
              "#0d0887"
             ],
             [
              0.1111111111111111,
              "#46039f"
             ],
             [
              0.2222222222222222,
              "#7201a8"
             ],
             [
              0.3333333333333333,
              "#9c179e"
             ],
             [
              0.4444444444444444,
              "#bd3786"
             ],
             [
              0.5555555555555556,
              "#d8576b"
             ],
             [
              0.6666666666666666,
              "#ed7953"
             ],
             [
              0.7777777777777778,
              "#fb9f3a"
             ],
             [
              0.8888888888888888,
              "#fdca26"
             ],
             [
              1,
              "#f0f921"
             ]
            ],
            "type": "heatmap"
           }
          ],
          "histogram": [
           {
            "marker": {
             "pattern": {
              "fillmode": "overlay",
              "size": 10,
              "solidity": 0.2
             }
            },
            "type": "histogram"
           }
          ],
          "histogram2d": [
           {
            "colorbar": {
             "outlinewidth": 0,
             "ticks": ""
            },
            "colorscale": [
             [
              0,
              "#0d0887"
             ],
             [
              0.1111111111111111,
              "#46039f"
             ],
             [
              0.2222222222222222,
              "#7201a8"
             ],
             [
              0.3333333333333333,
              "#9c179e"
             ],
             [
              0.4444444444444444,
              "#bd3786"
             ],
             [
              0.5555555555555556,
              "#d8576b"
             ],
             [
              0.6666666666666666,
              "#ed7953"
             ],
             [
              0.7777777777777778,
              "#fb9f3a"
             ],
             [
              0.8888888888888888,
              "#fdca26"
             ],
             [
              1,
              "#f0f921"
             ]
            ],
            "type": "histogram2d"
           }
          ],
          "histogram2dcontour": [
           {
            "colorbar": {
             "outlinewidth": 0,
             "ticks": ""
            },
            "colorscale": [
             [
              0,
              "#0d0887"
             ],
             [
              0.1111111111111111,
              "#46039f"
             ],
             [
              0.2222222222222222,
              "#7201a8"
             ],
             [
              0.3333333333333333,
              "#9c179e"
             ],
             [
              0.4444444444444444,
              "#bd3786"
             ],
             [
              0.5555555555555556,
              "#d8576b"
             ],
             [
              0.6666666666666666,
              "#ed7953"
             ],
             [
              0.7777777777777778,
              "#fb9f3a"
             ],
             [
              0.8888888888888888,
              "#fdca26"
             ],
             [
              1,
              "#f0f921"
             ]
            ],
            "type": "histogram2dcontour"
           }
          ],
          "mesh3d": [
           {
            "colorbar": {
             "outlinewidth": 0,
             "ticks": ""
            },
            "type": "mesh3d"
           }
          ],
          "parcoords": [
           {
            "line": {
             "colorbar": {
              "outlinewidth": 0,
              "ticks": ""
             }
            },
            "type": "parcoords"
           }
          ],
          "pie": [
           {
            "automargin": true,
            "type": "pie"
           }
          ],
          "scatter": [
           {
            "fillpattern": {
             "fillmode": "overlay",
             "size": 10,
             "solidity": 0.2
            },
            "type": "scatter"
           }
          ],
          "scatter3d": [
           {
            "line": {
             "colorbar": {
              "outlinewidth": 0,
              "ticks": ""
             }
            },
            "marker": {
             "colorbar": {
              "outlinewidth": 0,
              "ticks": ""
             }
            },
            "type": "scatter3d"
           }
          ],
          "scattercarpet": [
           {
            "marker": {
             "colorbar": {
              "outlinewidth": 0,
              "ticks": ""
             }
            },
            "type": "scattercarpet"
           }
          ],
          "scattergeo": [
           {
            "marker": {
             "colorbar": {
              "outlinewidth": 0,
              "ticks": ""
             }
            },
            "type": "scattergeo"
           }
          ],
          "scattergl": [
           {
            "marker": {
             "colorbar": {
              "outlinewidth": 0,
              "ticks": ""
             }
            },
            "type": "scattergl"
           }
          ],
          "scattermap": [
           {
            "marker": {
             "colorbar": {
              "outlinewidth": 0,
              "ticks": ""
             }
            },
            "type": "scattermap"
           }
          ],
          "scattermapbox": [
           {
            "marker": {
             "colorbar": {
              "outlinewidth": 0,
              "ticks": ""
             }
            },
            "type": "scattermapbox"
           }
          ],
          "scatterpolar": [
           {
            "marker": {
             "colorbar": {
              "outlinewidth": 0,
              "ticks": ""
             }
            },
            "type": "scatterpolar"
           }
          ],
          "scatterpolargl": [
           {
            "marker": {
             "colorbar": {
              "outlinewidth": 0,
              "ticks": ""
             }
            },
            "type": "scatterpolargl"
           }
          ],
          "scatterternary": [
           {
            "marker": {
             "colorbar": {
              "outlinewidth": 0,
              "ticks": ""
             }
            },
            "type": "scatterternary"
           }
          ],
          "surface": [
           {
            "colorbar": {
             "outlinewidth": 0,
             "ticks": ""
            },
            "colorscale": [
             [
              0,
              "#0d0887"
             ],
             [
              0.1111111111111111,
              "#46039f"
             ],
             [
              0.2222222222222222,
              "#7201a8"
             ],
             [
              0.3333333333333333,
              "#9c179e"
             ],
             [
              0.4444444444444444,
              "#bd3786"
             ],
             [
              0.5555555555555556,
              "#d8576b"
             ],
             [
              0.6666666666666666,
              "#ed7953"
             ],
             [
              0.7777777777777778,
              "#fb9f3a"
             ],
             [
              0.8888888888888888,
              "#fdca26"
             ],
             [
              1,
              "#f0f921"
             ]
            ],
            "type": "surface"
           }
          ],
          "table": [
           {
            "cells": {
             "fill": {
              "color": "#EBF0F8"
             },
             "line": {
              "color": "white"
             }
            },
            "header": {
             "fill": {
              "color": "#C8D4E3"
             },
             "line": {
              "color": "white"
             }
            },
            "type": "table"
           }
          ]
         },
         "layout": {
          "annotationdefaults": {
           "arrowcolor": "#2a3f5f",
           "arrowhead": 0,
           "arrowwidth": 1
          },
          "autotypenumbers": "strict",
          "coloraxis": {
           "colorbar": {
            "outlinewidth": 0,
            "ticks": ""
           }
          },
          "colorscale": {
           "diverging": [
            [
             0,
             "#8e0152"
            ],
            [
             0.1,
             "#c51b7d"
            ],
            [
             0.2,
             "#de77ae"
            ],
            [
             0.3,
             "#f1b6da"
            ],
            [
             0.4,
             "#fde0ef"
            ],
            [
             0.5,
             "#f7f7f7"
            ],
            [
             0.6,
             "#e6f5d0"
            ],
            [
             0.7,
             "#b8e186"
            ],
            [
             0.8,
             "#7fbc41"
            ],
            [
             0.9,
             "#4d9221"
            ],
            [
             1,
             "#276419"
            ]
           ],
           "sequential": [
            [
             0,
             "#0d0887"
            ],
            [
             0.1111111111111111,
             "#46039f"
            ],
            [
             0.2222222222222222,
             "#7201a8"
            ],
            [
             0.3333333333333333,
             "#9c179e"
            ],
            [
             0.4444444444444444,
             "#bd3786"
            ],
            [
             0.5555555555555556,
             "#d8576b"
            ],
            [
             0.6666666666666666,
             "#ed7953"
            ],
            [
             0.7777777777777778,
             "#fb9f3a"
            ],
            [
             0.8888888888888888,
             "#fdca26"
            ],
            [
             1,
             "#f0f921"
            ]
           ],
           "sequentialminus": [
            [
             0,
             "#0d0887"
            ],
            [
             0.1111111111111111,
             "#46039f"
            ],
            [
             0.2222222222222222,
             "#7201a8"
            ],
            [
             0.3333333333333333,
             "#9c179e"
            ],
            [
             0.4444444444444444,
             "#bd3786"
            ],
            [
             0.5555555555555556,
             "#d8576b"
            ],
            [
             0.6666666666666666,
             "#ed7953"
            ],
            [
             0.7777777777777778,
             "#fb9f3a"
            ],
            [
             0.8888888888888888,
             "#fdca26"
            ],
            [
             1,
             "#f0f921"
            ]
           ]
          },
          "colorway": [
           "#636efa",
           "#EF553B",
           "#00cc96",
           "#ab63fa",
           "#FFA15A",
           "#19d3f3",
           "#FF6692",
           "#B6E880",
           "#FF97FF",
           "#FECB52"
          ],
          "font": {
           "color": "#2a3f5f"
          },
          "geo": {
           "bgcolor": "white",
           "lakecolor": "white",
           "landcolor": "#E5ECF6",
           "showlakes": true,
           "showland": true,
           "subunitcolor": "white"
          },
          "hoverlabel": {
           "align": "left"
          },
          "hovermode": "closest",
          "mapbox": {
           "style": "light"
          },
          "paper_bgcolor": "white",
          "plot_bgcolor": "#E5ECF6",
          "polar": {
           "angularaxis": {
            "gridcolor": "white",
            "linecolor": "white",
            "ticks": ""
           },
           "bgcolor": "#E5ECF6",
           "radialaxis": {
            "gridcolor": "white",
            "linecolor": "white",
            "ticks": ""
           }
          },
          "scene": {
           "xaxis": {
            "backgroundcolor": "#E5ECF6",
            "gridcolor": "white",
            "gridwidth": 2,
            "linecolor": "white",
            "showbackground": true,
            "ticks": "",
            "zerolinecolor": "white"
           },
           "yaxis": {
            "backgroundcolor": "#E5ECF6",
            "gridcolor": "white",
            "gridwidth": 2,
            "linecolor": "white",
            "showbackground": true,
            "ticks": "",
            "zerolinecolor": "white"
           },
           "zaxis": {
            "backgroundcolor": "#E5ECF6",
            "gridcolor": "white",
            "gridwidth": 2,
            "linecolor": "white",
            "showbackground": true,
            "ticks": "",
            "zerolinecolor": "white"
           }
          },
          "shapedefaults": {
           "line": {
            "color": "#2a3f5f"
           }
          },
          "ternary": {
           "aaxis": {
            "gridcolor": "white",
            "linecolor": "white",
            "ticks": ""
           },
           "baxis": {
            "gridcolor": "white",
            "linecolor": "white",
            "ticks": ""
           },
           "bgcolor": "#E5ECF6",
           "caxis": {
            "gridcolor": "white",
            "linecolor": "white",
            "ticks": ""
           }
          },
          "title": {
           "x": 0.05
          },
          "xaxis": {
           "automargin": true,
           "gridcolor": "white",
           "linecolor": "white",
           "ticks": "",
           "title": {
            "standoff": 15
           },
           "zerolinecolor": "white",
           "zerolinewidth": 2
          },
          "yaxis": {
           "automargin": true,
           "gridcolor": "white",
           "linecolor": "white",
           "ticks": "",
           "title": {
            "standoff": 15
           },
           "zerolinecolor": "white",
           "zerolinewidth": 2
          }
         }
        },
        "title": {
         "font": {
          "size": 20
         },
         "text": "🛰️ Proveedor de Satélite Dominante por País",
         "x": 0.5
        },
        "width": 1000
       }
      }
     },
     "metadata": {},
     "output_type": "display_data"
    },
    {
     "data": {
      "application/vnd.plotly.v1+json": {
       "config": {
        "plotlyServerURL": "https://plot.ly"
       },
       "data": [
        {
         "coloraxis": "coloraxis",
         "geo": "geo",
         "hovertemplate": "country=%{location}<br>Cobertura (%)=%{z}<extra></extra>",
         "locationmode": "country names",
         "locations": [
          "Australia",
          "Brazil",
          "Canada",
          "China",
          "Germany",
          "India",
          "Japan",
          "Mexico",
          "UK",
          "USA"
         ],
         "name": "",
         "type": "choropleth",
         "z": {
          "bdata": "cT0K16OwVUDNzMzMzOxVQFyPwvUojFZAXI/C9SjMVUAzMzMzM2NSQKRwPQrX40pApHA9CtfjR0BI4XoUrqdXQFK4HoXrAVZAj8L1KFz/UUA=",
          "dtype": "f8"
         }
        }
       ],
       "layout": {
        "coloraxis": {
         "cmax": 100,
         "cmin": 0,
         "colorbar": {
          "title": {
           "text": "Cobertura (%)"
          }
         },
         "colorscale": [
          [
           0,
           "#440154"
          ],
          [
           0.1111111111111111,
           "#482878"
          ],
          [
           0.2222222222222222,
           "#3e4989"
          ],
          [
           0.3333333333333333,
           "#31688e"
          ],
          [
           0.4444444444444444,
           "#26828e"
          ],
          [
           0.5555555555555556,
           "#1f9e89"
          ],
          [
           0.6666666666666666,
           "#35b779"
          ],
          [
           0.7777777777777778,
           "#6ece58"
          ],
          [
           0.8888888888888888,
           "#b5de2b"
          ],
          [
           1,
           "#fde725"
          ]
         ]
        },
        "geo": {
         "center": {},
         "domain": {
          "x": [
           0,
           1
          ],
          "y": [
           0,
           1
          ]
         },
         "projection": {
          "type": "equirectangular"
         },
         "showcoastlines": true,
         "showframe": false
        },
        "height": 600,
        "legend": {
         "tracegroupgap": 0
        },
        "template": {
         "data": {
          "bar": [
           {
            "error_x": {
             "color": "#2a3f5f"
            },
            "error_y": {
             "color": "#2a3f5f"
            },
            "marker": {
             "line": {
              "color": "#E5ECF6",
              "width": 0.5
             },
             "pattern": {
              "fillmode": "overlay",
              "size": 10,
              "solidity": 0.2
             }
            },
            "type": "bar"
           }
          ],
          "barpolar": [
           {
            "marker": {
             "line": {
              "color": "#E5ECF6",
              "width": 0.5
             },
             "pattern": {
              "fillmode": "overlay",
              "size": 10,
              "solidity": 0.2
             }
            },
            "type": "barpolar"
           }
          ],
          "carpet": [
           {
            "aaxis": {
             "endlinecolor": "#2a3f5f",
             "gridcolor": "white",
             "linecolor": "white",
             "minorgridcolor": "white",
             "startlinecolor": "#2a3f5f"
            },
            "baxis": {
             "endlinecolor": "#2a3f5f",
             "gridcolor": "white",
             "linecolor": "white",
             "minorgridcolor": "white",
             "startlinecolor": "#2a3f5f"
            },
            "type": "carpet"
           }
          ],
          "choropleth": [
           {
            "colorbar": {
             "outlinewidth": 0,
             "ticks": ""
            },
            "type": "choropleth"
           }
          ],
          "contour": [
           {
            "colorbar": {
             "outlinewidth": 0,
             "ticks": ""
            },
            "colorscale": [
             [
              0,
              "#0d0887"
             ],
             [
              0.1111111111111111,
              "#46039f"
             ],
             [
              0.2222222222222222,
              "#7201a8"
             ],
             [
              0.3333333333333333,
              "#9c179e"
             ],
             [
              0.4444444444444444,
              "#bd3786"
             ],
             [
              0.5555555555555556,
              "#d8576b"
             ],
             [
              0.6666666666666666,
              "#ed7953"
             ],
             [
              0.7777777777777778,
              "#fb9f3a"
             ],
             [
              0.8888888888888888,
              "#fdca26"
             ],
             [
              1,
              "#f0f921"
             ]
            ],
            "type": "contour"
           }
          ],
          "contourcarpet": [
           {
            "colorbar": {
             "outlinewidth": 0,
             "ticks": ""
            },
            "type": "contourcarpet"
           }
          ],
          "heatmap": [
           {
            "colorbar": {
             "outlinewidth": 0,
             "ticks": ""
            },
            "colorscale": [
             [
              0,
              "#0d0887"
             ],
             [
              0.1111111111111111,
              "#46039f"
             ],
             [
              0.2222222222222222,
              "#7201a8"
             ],
             [
              0.3333333333333333,
              "#9c179e"
             ],
             [
              0.4444444444444444,
              "#bd3786"
             ],
             [
              0.5555555555555556,
              "#d8576b"
             ],
             [
              0.6666666666666666,
              "#ed7953"
             ],
             [
              0.7777777777777778,
              "#fb9f3a"
             ],
             [
              0.8888888888888888,
              "#fdca26"
             ],
             [
              1,
              "#f0f921"
             ]
            ],
            "type": "heatmap"
           }
          ],
          "histogram": [
           {
            "marker": {
             "pattern": {
              "fillmode": "overlay",
              "size": 10,
              "solidity": 0.2
             }
            },
            "type": "histogram"
           }
          ],
          "histogram2d": [
           {
            "colorbar": {
             "outlinewidth": 0,
             "ticks": ""
            },
            "colorscale": [
             [
              0,
              "#0d0887"
             ],
             [
              0.1111111111111111,
              "#46039f"
             ],
             [
              0.2222222222222222,
              "#7201a8"
             ],
             [
              0.3333333333333333,
              "#9c179e"
             ],
             [
              0.4444444444444444,
              "#bd3786"
             ],
             [
              0.5555555555555556,
              "#d8576b"
             ],
             [
              0.6666666666666666,
              "#ed7953"
             ],
             [
              0.7777777777777778,
              "#fb9f3a"
             ],
             [
              0.8888888888888888,
              "#fdca26"
             ],
             [
              1,
              "#f0f921"
             ]
            ],
            "type": "histogram2d"
           }
          ],
          "histogram2dcontour": [
           {
            "colorbar": {
             "outlinewidth": 0,
             "ticks": ""
            },
            "colorscale": [
             [
              0,
              "#0d0887"
             ],
             [
              0.1111111111111111,
              "#46039f"
             ],
             [
              0.2222222222222222,
              "#7201a8"
             ],
             [
              0.3333333333333333,
              "#9c179e"
             ],
             [
              0.4444444444444444,
              "#bd3786"
             ],
             [
              0.5555555555555556,
              "#d8576b"
             ],
             [
              0.6666666666666666,
              "#ed7953"
             ],
             [
              0.7777777777777778,
              "#fb9f3a"
             ],
             [
              0.8888888888888888,
              "#fdca26"
             ],
             [
              1,
              "#f0f921"
             ]
            ],
            "type": "histogram2dcontour"
           }
          ],
          "mesh3d": [
           {
            "colorbar": {
             "outlinewidth": 0,
             "ticks": ""
            },
            "type": "mesh3d"
           }
          ],
          "parcoords": [
           {
            "line": {
             "colorbar": {
              "outlinewidth": 0,
              "ticks": ""
             }
            },
            "type": "parcoords"
           }
          ],
          "pie": [
           {
            "automargin": true,
            "type": "pie"
           }
          ],
          "scatter": [
           {
            "fillpattern": {
             "fillmode": "overlay",
             "size": 10,
             "solidity": 0.2
            },
            "type": "scatter"
           }
          ],
          "scatter3d": [
           {
            "line": {
             "colorbar": {
              "outlinewidth": 0,
              "ticks": ""
             }
            },
            "marker": {
             "colorbar": {
              "outlinewidth": 0,
              "ticks": ""
             }
            },
            "type": "scatter3d"
           }
          ],
          "scattercarpet": [
           {
            "marker": {
             "colorbar": {
              "outlinewidth": 0,
              "ticks": ""
             }
            },
            "type": "scattercarpet"
           }
          ],
          "scattergeo": [
           {
            "marker": {
             "colorbar": {
              "outlinewidth": 0,
              "ticks": ""
             }
            },
            "type": "scattergeo"
           }
          ],
          "scattergl": [
           {
            "marker": {
             "colorbar": {
              "outlinewidth": 0,
              "ticks": ""
             }
            },
            "type": "scattergl"
           }
          ],
          "scattermap": [
           {
            "marker": {
             "colorbar": {
              "outlinewidth": 0,
              "ticks": ""
             }
            },
            "type": "scattermap"
           }
          ],
          "scattermapbox": [
           {
            "marker": {
             "colorbar": {
              "outlinewidth": 0,
              "ticks": ""
             }
            },
            "type": "scattermapbox"
           }
          ],
          "scatterpolar": [
           {
            "marker": {
             "colorbar": {
              "outlinewidth": 0,
              "ticks": ""
             }
            },
            "type": "scatterpolar"
           }
          ],
          "scatterpolargl": [
           {
            "marker": {
             "colorbar": {
              "outlinewidth": 0,
              "ticks": ""
             }
            },
            "type": "scatterpolargl"
           }
          ],
          "scatterternary": [
           {
            "marker": {
             "colorbar": {
              "outlinewidth": 0,
              "ticks": ""
             }
            },
            "type": "scatterternary"
           }
          ],
          "surface": [
           {
            "colorbar": {
             "outlinewidth": 0,
             "ticks": ""
            },
            "colorscale": [
             [
              0,
              "#0d0887"
             ],
             [
              0.1111111111111111,
              "#46039f"
             ],
             [
              0.2222222222222222,
              "#7201a8"
             ],
             [
              0.3333333333333333,
              "#9c179e"
             ],
             [
              0.4444444444444444,
              "#bd3786"
             ],
             [
              0.5555555555555556,
              "#d8576b"
             ],
             [
              0.6666666666666666,
              "#ed7953"
             ],
             [
              0.7777777777777778,
              "#fb9f3a"
             ],
             [
              0.8888888888888888,
              "#fdca26"
             ],
             [
              1,
              "#f0f921"
             ]
            ],
            "type": "surface"
           }
          ],
          "table": [
           {
            "cells": {
             "fill": {
              "color": "#EBF0F8"
             },
             "line": {
              "color": "white"
             }
            },
            "header": {
             "fill": {
              "color": "#C8D4E3"
             },
             "line": {
              "color": "white"
             }
            },
            "type": "table"
           }
          ]
         },
         "layout": {
          "annotationdefaults": {
           "arrowcolor": "#2a3f5f",
           "arrowhead": 0,
           "arrowwidth": 1
          },
          "autotypenumbers": "strict",
          "coloraxis": {
           "colorbar": {
            "outlinewidth": 0,
            "ticks": ""
           }
          },
          "colorscale": {
           "diverging": [
            [
             0,
             "#8e0152"
            ],
            [
             0.1,
             "#c51b7d"
            ],
            [
             0.2,
             "#de77ae"
            ],
            [
             0.3,
             "#f1b6da"
            ],
            [
             0.4,
             "#fde0ef"
            ],
            [
             0.5,
             "#f7f7f7"
            ],
            [
             0.6,
             "#e6f5d0"
            ],
            [
             0.7,
             "#b8e186"
            ],
            [
             0.8,
             "#7fbc41"
            ],
            [
             0.9,
             "#4d9221"
            ],
            [
             1,
             "#276419"
            ]
           ],
           "sequential": [
            [
             0,
             "#0d0887"
            ],
            [
             0.1111111111111111,
             "#46039f"
            ],
            [
             0.2222222222222222,
             "#7201a8"
            ],
            [
             0.3333333333333333,
             "#9c179e"
            ],
            [
             0.4444444444444444,
             "#bd3786"
            ],
            [
             0.5555555555555556,
             "#d8576b"
            ],
            [
             0.6666666666666666,
             "#ed7953"
            ],
            [
             0.7777777777777778,
             "#fb9f3a"
            ],
            [
             0.8888888888888888,
             "#fdca26"
            ],
            [
             1,
             "#f0f921"
            ]
           ],
           "sequentialminus": [
            [
             0,
             "#0d0887"
            ],
            [
             0.1111111111111111,
             "#46039f"
            ],
            [
             0.2222222222222222,
             "#7201a8"
            ],
            [
             0.3333333333333333,
             "#9c179e"
            ],
            [
             0.4444444444444444,
             "#bd3786"
            ],
            [
             0.5555555555555556,
             "#d8576b"
            ],
            [
             0.6666666666666666,
             "#ed7953"
            ],
            [
             0.7777777777777778,
             "#fb9f3a"
            ],
            [
             0.8888888888888888,
             "#fdca26"
            ],
            [
             1,
             "#f0f921"
            ]
           ]
          },
          "colorway": [
           "#636efa",
           "#EF553B",
           "#00cc96",
           "#ab63fa",
           "#FFA15A",
           "#19d3f3",
           "#FF6692",
           "#B6E880",
           "#FF97FF",
           "#FECB52"
          ],
          "font": {
           "color": "#2a3f5f"
          },
          "geo": {
           "bgcolor": "white",
           "lakecolor": "white",
           "landcolor": "#E5ECF6",
           "showlakes": true,
           "showland": true,
           "subunitcolor": "white"
          },
          "hoverlabel": {
           "align": "left"
          },
          "hovermode": "closest",
          "mapbox": {
           "style": "light"
          },
          "paper_bgcolor": "white",
          "plot_bgcolor": "#E5ECF6",
          "polar": {
           "angularaxis": {
            "gridcolor": "white",
            "linecolor": "white",
            "ticks": ""
           },
           "bgcolor": "#E5ECF6",
           "radialaxis": {
            "gridcolor": "white",
            "linecolor": "white",
            "ticks": ""
           }
          },
          "scene": {
           "xaxis": {
            "backgroundcolor": "#E5ECF6",
            "gridcolor": "white",
            "gridwidth": 2,
            "linecolor": "white",
            "showbackground": true,
            "ticks": "",
            "zerolinecolor": "white"
           },
           "yaxis": {
            "backgroundcolor": "#E5ECF6",
            "gridcolor": "white",
            "gridwidth": 2,
            "linecolor": "white",
            "showbackground": true,
            "ticks": "",
            "zerolinecolor": "white"
           },
           "zaxis": {
            "backgroundcolor": "#E5ECF6",
            "gridcolor": "white",
            "gridwidth": 2,
            "linecolor": "white",
            "showbackground": true,
            "ticks": "",
            "zerolinecolor": "white"
           }
          },
          "shapedefaults": {
           "line": {
            "color": "#2a3f5f"
           }
          },
          "ternary": {
           "aaxis": {
            "gridcolor": "white",
            "linecolor": "white",
            "ticks": ""
           },
           "baxis": {
            "gridcolor": "white",
            "linecolor": "white",
            "ticks": ""
           },
           "bgcolor": "#E5ECF6",
           "caxis": {
            "gridcolor": "white",
            "linecolor": "white",
            "ticks": ""
           }
          },
          "title": {
           "x": 0.05
          },
          "xaxis": {
           "automargin": true,
           "gridcolor": "white",
           "linecolor": "white",
           "ticks": "",
           "title": {
            "standoff": 15
           },
           "zerolinecolor": "white",
           "zerolinewidth": 2
          },
          "yaxis": {
           "automargin": true,
           "gridcolor": "white",
           "linecolor": "white",
           "ticks": "",
           "title": {
            "standoff": 15
           },
           "zerolinecolor": "white",
           "zerolinewidth": 2
          }
         }
        },
        "title": {
         "font": {
          "size": 20
         },
         "text": "📡 Intensidad de Cobertura Satelital por País (%)",
         "x": 0.5
        },
        "width": 1000
       }
      }
     },
     "metadata": {},
     "output_type": "display_data"
    },
    {
     "name": "stdout",
     "output_type": "stream",
     "text": [
      "\n",
      "✅ Mapas interactivos generados exitosamente!\n",
      "💡 Puedes hacer zoom, pan y hover sobre los países para más detalles\n"
     ]
    }
   ],
   "source": [
    "# Generación de mapa geoespacial de dominancia competitiva\n",
    "try:\n",
    "    import plotly.express as px\n",
    "    import plotly.graph_objects as go\n",
    "    from plotly.subplots import make_subplots\n",
    "    \n",
    "    if not main_df.empty and 'country' in main_df.columns and 'provider' in main_df.columns:\n",
    "        print(\"🗺️  GENERANDO MAPA GEOESPACIAL DE DOMINANCIA COMPETITIVA\")\n",
    "        print(\"=\" * 60)\n",
    "        \n",
    "        # 1. Identificar proveedor dominante por país (máxima cobertura)\n",
    "        if 'coverage_percent' in main_df.columns:\n",
    "            # Determinar liderazgo competitivo por país\n",
    "            dominant_provider_by_country = main_df.loc[main_df.groupby('country')['coverage_percent'].idxmax()]\n",
    "            \n",
    "            # Preparar dataset geoespacial\n",
    "            geo_data = dominant_provider_by_country[['country', 'provider', 'coverage_percent']].copy()\n",
    "            geo_data.columns = ['country', 'dominant_provider', 'max_coverage']\n",
    "            \n",
    "            print(f\"📊 Datos geoespaciales procesados para {len(geo_data)} países\")\n",
    "            print(\"\\n🏆 Top 5 Mercados con Mayor Cobertura:\")\n",
    "            top_coverage = geo_data.nlargest(5, 'max_coverage')\n",
    "            for _, row in top_coverage.iterrows():\n",
    "                print(f\"   • {row['country']}: {row['dominant_provider']} ({row['max_coverage']:.1f}%)\")\n",
    "            \n",
    "            # Generar mapa choropleth de dominancia competitiva\n",
    "            fig1 = px.choropleth(\n",
    "                geo_data,\n",
    "                locations='country',\n",
    "                color='dominant_provider',\n",
    "                locationmode='country names',\n",
    "                title='🛰️ Proveedor de Satélite Dominante por País',\n",
    "                labels={'dominant_provider': 'Proveedor'},\n",
    "                color_discrete_sequence=px.colors.qualitative.Set3\n",
    "            )\n",
    "            \n",
    "            fig1.update_layout(\n",
    "                title_font_size=20,\n",
    "                title_x=0.5,\n",
    "                geo=dict(\n",
    "                    showframe=False,\n",
    "                    showcoastlines=True,\n",
    "                    projection_type='equirectangular'\n",
    "                ),\n",
    "                width=1000,\n",
    "                height=600\n",
    "            )\n",
    "            \n",
    "            fig1.show()\n",
    "            \n",
    "            # Crear segundo mapa con intensidad de cobertura\n",
    "            fig2 = px.choropleth(\n",
    "                map_data,\n",
    "                locations='country',\n",
    "                color='max_coverage',\n",
    "                locationmode='country names',\n",
    "                title='📡 Intensidad de Cobertura Satelital por País (%)',\n",
    "                labels={'max_coverage': 'Cobertura (%)'},\n",
    "                color_continuous_scale='Viridis',\n",
    "                range_color=[0, 100]\n",
    "            )\n",
    "            \n",
    "            fig2.update_layout(\n",
    "                title_font_size=20,\n",
    "                title_x=0.5,\n",
    "                geo=dict(\n",
    "                    showframe=False,\n",
    "                    showcoastlines=True,\n",
    "                    projection_type='equirectangular'\n",
    "                ),\n",
    "                width=1000,\n",
    "                height=600\n",
    "            )\n",
    "            \n",
    "            fig2.show()\n",
    "            \n",
    "        else:\n",
    "            # Si no hay datos de cobertura, crear mapa por número de proveedores\n",
    "            providers_per_country = main_df.groupby('country')['provider'].nunique().reset_index()\n",
    "            providers_per_country.columns = ['country', 'num_providers']\n",
    "            \n",
    "            fig3 = px.choropleth(\n",
    "                providers_per_country,\n",
    "                locations='country',\n",
    "                color='num_providers',\n",
    "                locationmode='country names',\n",
    "                title='🌐 Número de Proveedores de Satélite por País',\n",
    "                labels={'num_providers': 'Proveedores'},\n",
    "                color_continuous_scale='Blues'\n",
    "            )\n",
    "            \n",
    "            fig3.update_layout(\n",
    "                title_font_size=20,\n",
    "                title_x=0.5,\n",
    "                geo=dict(\n",
    "                    showframe=False,\n",
    "                    showcoastlines=True,\n",
    "                    projection_type='equirectangular'\n",
    "                ),\n",
    "                width=1000,\n",
    "                height=600\n",
    "            )\n",
    "            \n",
    "            fig3.show()\n",
    "            \n",
    "        print(\"\\n✅ Mapas interactivos generados exitosamente!\")\n",
    "        print(\"💡 Puedes hacer zoom, pan y hover sobre los países para más detalles\")\n",
    "        \n",
    "    else:\n",
    "        print(\"⚠️  No hay suficientes datos geográficos para crear el mapa\")\n",
    "        \n",
    "except ImportError:\n",
    "    print(\"❌ Plotly no está disponible. Instalando...\")\n",
    "    print(\"   Ejecuta: pip install plotly\")\n",
    "except Exception as e:\n",
    "    print(f\"❌ Error creando el mapa: {e}\")"
   ]
  },
  {
   "cell_type": "code",
   "execution_count": null,
   "id": "67f6471d",
   "metadata": {},
   "outputs": [
    {
     "name": "stdout",
     "output_type": "stream",
     "text": [
      "\n",
      "📋 ANÁLISIS DETALLADO POR REGIÓN Y PROVEEDOR\n",
      "============================================================\n",
      "\n",
      "🌍 Resumen por País y Proveedor (Top 15):\n"
     ]
    },
    {
     "data": {
      "text/html": [
       "<div>\n",
       "<style scoped>\n",
       "    .dataframe tbody tr th:only-of-type {\n",
       "        vertical-align: middle;\n",
       "    }\n",
       "\n",
       "    .dataframe tbody tr th {\n",
       "        vertical-align: top;\n",
       "    }\n",
       "\n",
       "    .dataframe thead th {\n",
       "        text-align: right;\n",
       "    }\n",
       "</style>\n",
       "<table border=\"1\" class=\"dataframe\">\n",
       "  <thead>\n",
       "    <tr style=\"text-align: right;\">\n",
       "      <th></th>\n",
       "      <th></th>\n",
       "      <th>coverage_percent</th>\n",
       "      <th>avg_download_speed_mbps</th>\n",
       "      <th>monthly_cost_usd</th>\n",
       "    </tr>\n",
       "    <tr>\n",
       "      <th>country</th>\n",
       "      <th>provider</th>\n",
       "      <th></th>\n",
       "      <th></th>\n",
       "      <th></th>\n",
       "    </tr>\n",
       "  </thead>\n",
       "  <tbody>\n",
       "    <tr>\n",
       "      <th>Mexico</th>\n",
       "      <th>Viasat</th>\n",
       "      <td>94.62</td>\n",
       "      <td>67.87</td>\n",
       "      <td>103.73</td>\n",
       "    </tr>\n",
       "    <tr>\n",
       "      <th>Canada</th>\n",
       "      <th>Starlink</th>\n",
       "      <td>90.19</td>\n",
       "      <td>133.12</td>\n",
       "      <td>84.81</td>\n",
       "    </tr>\n",
       "    <tr>\n",
       "      <th>UK</th>\n",
       "      <th>Iridium</th>\n",
       "      <td>88.03</td>\n",
       "      <td>105.54</td>\n",
       "      <td>147.76</td>\n",
       "    </tr>\n",
       "    <tr>\n",
       "      <th>Brazil</th>\n",
       "      <th>Starlink</th>\n",
       "      <td>87.70</td>\n",
       "      <td>66.04</td>\n",
       "      <td>130.95</td>\n",
       "    </tr>\n",
       "    <tr>\n",
       "      <th>China</th>\n",
       "      <th>OneWeb</th>\n",
       "      <td>87.19</td>\n",
       "      <td>117.76</td>\n",
       "      <td>191.39</td>\n",
       "    </tr>\n",
       "    <tr>\n",
       "      <th rowspan=\"2\" valign=\"top\">Australia</th>\n",
       "      <th>Iridium</th>\n",
       "      <td>86.76</td>\n",
       "      <td>114.49</td>\n",
       "      <td>100.28</td>\n",
       "    </tr>\n",
       "    <tr>\n",
       "      <th>OneWeb</th>\n",
       "      <td>84.10</td>\n",
       "      <td>37.43</td>\n",
       "      <td>164.99</td>\n",
       "    </tr>\n",
       "    <tr>\n",
       "      <th rowspan=\"2\" valign=\"top\">UK</th>\n",
       "      <th>HughesNet</th>\n",
       "      <td>82.46</td>\n",
       "      <td>92.05</td>\n",
       "      <td>50.99</td>\n",
       "    </tr>\n",
       "    <tr>\n",
       "      <th>OneWeb</th>\n",
       "      <td>79.90</td>\n",
       "      <td>111.30</td>\n",
       "      <td>79.28</td>\n",
       "    </tr>\n",
       "    <tr>\n",
       "      <th rowspan=\"2\" valign=\"top\">China</th>\n",
       "      <th>Iridium</th>\n",
       "      <td>77.24</td>\n",
       "      <td>44.43</td>\n",
       "      <td>167.00</td>\n",
       "    </tr>\n",
       "    <tr>\n",
       "      <th>HughesNet</th>\n",
       "      <td>75.27</td>\n",
       "      <td>63.73</td>\n",
       "      <td>52.36</td>\n",
       "    </tr>\n",
       "    <tr>\n",
       "      <th>Germany</th>\n",
       "      <th>Iridium</th>\n",
       "      <td>73.55</td>\n",
       "      <td>58.95</td>\n",
       "      <td>84.77</td>\n",
       "    </tr>\n",
       "    <tr>\n",
       "      <th>Brazil</th>\n",
       "      <th>OneWeb</th>\n",
       "      <td>72.78</td>\n",
       "      <td>123.32</td>\n",
       "      <td>112.43</td>\n",
       "    </tr>\n",
       "    <tr>\n",
       "      <th>USA</th>\n",
       "      <th>Viasat</th>\n",
       "      <td>71.99</td>\n",
       "      <td>113.76</td>\n",
       "      <td>108.58</td>\n",
       "    </tr>\n",
       "    <tr>\n",
       "      <th>Canada</th>\n",
       "      <th>Viasat</th>\n",
       "      <td>68.79</td>\n",
       "      <td>89.59</td>\n",
       "      <td>93.12</td>\n",
       "    </tr>\n",
       "  </tbody>\n",
       "</table>\n",
       "</div>"
      ],
      "text/plain": [
       "                     coverage_percent  avg_download_speed_mbps  \\\n",
       "country   provider                                               \n",
       "Mexico    Viasat                94.62                    67.87   \n",
       "Canada    Starlink              90.19                   133.12   \n",
       "UK        Iridium               88.03                   105.54   \n",
       "Brazil    Starlink              87.70                    66.04   \n",
       "China     OneWeb                87.19                   117.76   \n",
       "Australia Iridium               86.76                   114.49   \n",
       "          OneWeb                84.10                    37.43   \n",
       "UK        HughesNet             82.46                    92.05   \n",
       "          OneWeb                79.90                   111.30   \n",
       "China     Iridium               77.24                    44.43   \n",
       "          HughesNet             75.27                    63.73   \n",
       "Germany   Iridium               73.55                    58.95   \n",
       "Brazil    OneWeb                72.78                   123.32   \n",
       "USA       Viasat                71.99                   113.76   \n",
       "Canada    Viasat                68.79                    89.59   \n",
       "\n",
       "                     monthly_cost_usd  \n",
       "country   provider                     \n",
       "Mexico    Viasat               103.73  \n",
       "Canada    Starlink              84.81  \n",
       "UK        Iridium              147.76  \n",
       "Brazil    Starlink             130.95  \n",
       "China     OneWeb               191.39  \n",
       "Australia Iridium              100.28  \n",
       "          OneWeb               164.99  \n",
       "UK        HughesNet             50.99  \n",
       "          OneWeb                79.28  \n",
       "China     Iridium              167.00  \n",
       "          HughesNet             52.36  \n",
       "Germany   Iridium               84.77  \n",
       "Brazil    OneWeb               112.43  \n",
       "USA       Viasat               108.58  \n",
       "Canada    Viasat                93.12  "
      ]
     },
     "metadata": {},
     "output_type": "display_data"
    },
    {
     "name": "stdout",
     "output_type": "stream",
     "text": [
      "\n",
      "🏆 DOMINANCIA GLOBAL POR PROVEEDOR\n",
      "----------------------------------------\n",
      "📡 HughesNet: 10 países (100.0% del total)\n",
      "📡 Iridium: 10 países (100.0% del total)\n",
      "📡 OneWeb: 10 países (100.0% del total)\n",
      "📡 Starlink: 10 países (100.0% del total)\n",
      "📡 Viasat: 10 países (100.0% del total)\n"
     ]
    },
    {
     "data": {
      "image/png": "[encoded data removed]",
      "text/plain": [
       "<Figure size 1200x600 with 2 Axes>"
      ]
     },
     "metadata": {},
     "output_type": "display_data"
    },
    {
     "name": "stdout",
     "output_type": "stream",
     "text": [
      "\n",
      "🔥 PAÍSES CON COMPETENCIA (múltiples proveedores):\n",
      "--------------------------------------------------\n",
      "🌍 Australia: 5 proveedores (Starlink, OneWeb, Viasat, HughesNet, Iridium)\n",
      "🌍 Brazil: 5 proveedores (Starlink, OneWeb, Viasat, HughesNet, Iridium)\n",
      "🌍 Canada: 5 proveedores (Starlink, OneWeb, Viasat, HughesNet, Iridium)\n",
      "🌍 China: 5 proveedores (Starlink, OneWeb, Viasat, HughesNet, Iridium)\n",
      "🌍 Germany: 5 proveedores (Starlink, OneWeb, Viasat, HughesNet, Iridium)\n",
      "🌍 India: 5 proveedores (Starlink, OneWeb, Viasat, HughesNet, Iridium)\n",
      "🌍 Japan: 5 proveedores (Starlink, OneWeb, Viasat, HughesNet, Iridium)\n",
      "🌍 Mexico: 5 proveedores (Starlink, OneWeb, Viasat, HughesNet, Iridium)\n",
      "🌍 UK: 5 proveedores (Starlink, OneWeb, Viasat, HughesNet, Iridium)\n",
      "🌍 USA: 5 proveedores (Starlink, OneWeb, Viasat, HughesNet, Iridium)\n",
      "\n",
      "📊 Estadísticas Globales:\n",
      "   • Total países analizados: 10\n",
      "   • Total proveedores activos: 5\n",
      "   • Países con competencia: 10\n",
      "   • Promedio proveedores por país: 5.0\n"
     ]
    }
   ],
   "source": [
    "# Análisis estratégico de distribución geográfica y posicionamiento competitivo\n",
    "if not main_df.empty and 'country' in main_df.columns and 'provider' in main_df.columns:\n",
    "    print(\"\\n📋 ANÁLISIS ESTRATÉGICO DE POSICIONAMIENTO COMPETITIVO\")\n",
    "    print(\"=\" * 60)\n",
    "    \n",
    "    # Matriz de performance país-proveedor\n",
    "    if 'coverage_percent' in main_df.columns:\n",
    "        country_provider_matrix = main_df.groupby(['country', 'provider']).agg({\n",
    "            'coverage_percent': 'max',\n",
    "            'avg_download_speed_mbps': 'mean' if 'avg_download_speed_mbps' in main_df.columns else 'count',\n",
    "            'monthly_cost_usd': 'mean' if 'monthly_cost_usd' in main_df.columns else 'count'\n",
    "        }).round(2)\n",
    "        \n",
    "        print(\"\\n🌍 Matriz de Performance País-Proveedor (Top 15 mercados):\")\n",
    "        top_performance = country_provider_matrix.sort_values('coverage_percent', ascending=False).head(15)\n",
    "        display(top_performance)\n",
    "    \n",
    "    # Análisis de penetración de mercado por proveedor\n",
    "    market_penetration = main_df.groupby('provider')['country'].nunique().sort_values(ascending=False)\n",
    "    \n",
    "    print(f\"\\n🏆 PENETRACIÓN DE MERCADO GLOBAL\")\n",
    "    print(\"-\" * 40)\n",
    "    total_markets = main_df['country'].nunique()\n",
    "    \n",
    "    for provider, market_count in market_penetration.items():\n",
    "        market_share = (market_count / total_markets) * 100\n",
    "        print(f\"📡 {provider}: {market_count} mercados ({market_share:.1f}% penetración global)\")\n",
    "    \n",
    "    # Visualización de cuota de mercado\n",
    "    if len(market_penetration) > 0:\n",
    "        plt.figure(figsize=(14, 7))\n",
    "        \n",
    "        plt.subplot(1, 2, 1)\n",
    "        market_penetration.plot(kind='bar', color='steelblue', alpha=0.8)\n",
    "        plt.title('Penetración de Mercado por Proveedor', fontsize=14, fontweight='bold')\n",
    "        plt.xlabel('Proveedor Satelital', fontweight='bold')\n",
    "        plt.ylabel('Mercados Operativos', fontweight='bold')\n",
    "        plt.xticks(rotation=45)\n",
    "        plt.grid(axis='y', alpha=0.3)\n",
    "        \n",
    "        # Gráfico de participación competitiva\n",
    "        plt.subplot(1, 2, 2)\n",
    "        market_share_percent = (market_penetration / total_markets * 100)\n",
    "        colors = plt.cm.Set3(range(len(market_share_percent)))\n",
    "        wedges, texts, autotexts = plt.pie(market_share_percent.values, labels=market_share_percent.index, \n",
    "                autopct='%1.1f%%', colors=colors, startangle=90)\n",
    "        plt.title('Cuota de Mercado Global\\n(% penetración por mercados)', fontsize=14, fontweight='bold')\n",
    "        \n",
    "        # Mejorar legibilidad\n",
    "        for autotext in autotexts:\n",
    "            autotext.set_color('white')\n",
    "            autotext.set_fontweight('bold')\n",
    "        \n",
    "        plt.tight_layout()\n",
    "        plt.show()\n",
    "    \n",
    "    # Identificación de mercados competitivos\n",
    "    competitive_markets = main_df.groupby('country')['provider'].nunique()\n",
    "    high_competition = competitive_markets[competitive_markets > 1].sort_values(ascending=False)\n",
    "    \n",
    "    if len(high_competition) > 0:\n",
    "        print(f\"\\n🔥 MERCADOS DE ALTA COMPETITIVIDAD:\")\n",
    "        print(\"-\" * 50)\n",
    "        for country, num_competitors in high_competition.head(10).items():\n",
    "            competitors_list = main_df[main_df['country'] == country]['provider'].unique()\n",
    "            print(f\"🌍 {country}: {num_competitors} competidores ({', '.join(competitors_list)})\")\n",
    "    \n",
    "    print(f\"\\n📊 KPIs Estratégicos del Mercado:\")\n",
    "    print(f\"   • Total de mercados analizados: {total_markets}\")\n",
    "    print(f\"   • Proveedores activos globalmente: {main_df['provider'].nunique()}\")\n",
    "    print(f\"   • Mercados con competencia activa: {len(high_competition)}\")\n",
    "    print(f\"   • Promedio de competidores por mercado: {competitive_markets.mean():.1f}\")\n",
    "    print(f\"   • Índice de concentración de mercado: {(market_penetration.max() / total_markets * 100):.1f}%\")\n",
    "\n",
    "else:\n",
    "    print(\"⚠️  Dataset insuficiente para análisis estratégico de posicionamiento\")"
   ]
  },
  {
   "cell_type": "markdown",
   "id": "5eab8810",
   "metadata": {},
   "source": [
    "### 5.2 Dashboards Ejecutivos y Análisis Comparativo\n",
    "\n",
    "Generamos visualizaciones ejecutivas para análisis comparativo de rendimiento y benchmarking competitivo."
   ]
  },
  {
   "cell_type": "code",
   "execution_count": null,
   "id": "0a583189",
   "metadata": {},
   "outputs": [
    {
     "name": "stdout",
     "output_type": "stream",
     "text": [
      "📊 GENERANDO VISUALIZACIONES\n",
      "==================================================\n"
     ]
    },
    {
     "data": {
      "image/png": "[encoded data removed]",
      "text/plain": [
       "<Figure size 1200x600 with 2 Axes>"
      ]
     },
     "metadata": {},
     "output_type": "display_data"
    },
    {
     "data": {
      "image/png": "[encoded data removed]",
      "text/plain": [
       "<Figure size 1400x800 with 4 Axes>"
      ]
     },
     "metadata": {},
     "output_type": "display_data"
    },
    {
     "name": "stdout",
     "output_type": "stream",
     "text": [
      "✅ Visualizaciones básicas generadas\n"
     ]
    }
   ],
   "source": [
    "# Generación de dashboards ejecutivos para análisis comparativo\n",
    "if not main_df.empty:\n",
    "    print(\"📊 GENERANDO DASHBOARDS EJECUTIVOS\")\n",
    "    print(\"=\" * 50)\n",
    "    \n",
    "    # Configuración profesional de visualizaciones\n",
    "    plt.rcParams['figure.figsize'] = (15, 10)\n",
    "    plt.rcParams['font.size'] = 11\n",
    "    plt.rcParams['axes.titlesize'] = 14\n",
    "    plt.rcParams['axes.titleweight'] = 'bold'\n",
    "    \n",
    "    # 1. Dashboard de rendimiento por proveedor\n",
    "    if 'provider' in main_df.columns and 'avg_download_speed_mbps' in main_df.columns:\n",
    "        fig, ((ax1, ax2), (ax3, ax4)) = plt.subplots(2, 2, figsize=(16, 12))\n",
    "        fig.suptitle('📊 DASHBOARD EJECUTIVO - ANÁLISIS DE RENDIMIENTO SATELITAL', \n",
    "                     fontsize=16, fontweight='bold', y=0.98)\n",
    "        \n",
    "        # Box plot de velocidades por proveedor\n",
    "        sns.boxplot(data=main_df, x='provider', y='avg_download_speed_mbps', ax=ax1)\n",
    "        ax1.set_title('Distribución de Velocidades por Proveedor')\n",
    "        ax1.set_xlabel('Proveedor Satelital')\n",
    "        ax1.set_ylabel('Velocidad de Descarga (Mbps)')\n",
    "        ax1.tick_params(axis='x', rotation=45)\n",
    "        ax1.grid(axis='y', alpha=0.3)\n",
    "        \n",
    "        # Benchmarking de velocidad promedio\n",
    "        avg_speeds = main_df.groupby('provider')['avg_download_speed_mbps'].mean().sort_values(ascending=False)\n",
    "        bars = ax2.bar(range(len(avg_speeds)), avg_speeds.values, color='steelblue', alpha=0.8)\n",
    "        ax2.set_title('Benchmarking - Velocidad Promedio por Proveedor')\n",
    "        ax2.set_xlabel('Proveedor Satelital')\n",
    "        ax2.set_ylabel('Velocidad Promedio (Mbps)')\n",
    "        ax2.set_xticks(range(len(avg_speeds)))\n",
    "        ax2.set_xticklabels(avg_speeds.index, rotation=45)\n",
    "        ax2.grid(axis='y', alpha=0.3)\n",
    "        \n",
    "        # Agregar valores en las barras\n",
    "        for bar, value in zip(bars, avg_speeds.values):\n",
    "            ax2.text(bar.get_x() + bar.get_width()/2, bar.get_height() + 1, \n",
    "                    f'{value:.1f}', ha='center', va='bottom', fontweight='bold')\n",
    "        \n",
    "        # Análisis de cobertura geográfica\n",
    "        if 'country' in main_df.columns and 'coverage_percent' in main_df.columns:\n",
    "            top_countries = main_df.groupby('country')['coverage_percent'].mean().sort_values(ascending=False).head(8)\n",
    "            ax3.barh(range(len(top_countries)), top_countries.values, color='forestgreen', alpha=0.8)\n",
    "            ax3.set_title('Top Mercados por Cobertura Promedio')\n",
    "            ax3.set_xlabel('Cobertura Promedio (%)')\n",
    "            ax3.set_ylabel('País/Mercado')\n",
    "            ax3.set_yticks(range(len(top_countries)))\n",
    "            ax3.set_yticklabels(top_countries.index)\n",
    "            ax3.grid(axis='x', alpha=0.3)\n",
    "            \n",
    "            # Scatter plot: Análisis de correlación cobertura vs velocidad\n",
    "            if 'avg_download_speed_mbps' in main_df.columns:\n",
    "                scatter = ax4.scatter(main_df['coverage_percent'], main_df['avg_download_speed_mbps'], \n",
    "                                    alpha=0.6, c='purple', s=60)\n",
    "                ax4.set_title('Correlación: Cobertura vs Velocidad')\n",
    "                ax4.set_xlabel('Cobertura (%)')\n",
    "                ax4.set_ylabel('Velocidad (Mbps)')\n",
    "                ax4.grid(True, alpha=0.3)\n",
    "                \n",
    "                # Línea de tendencia\n",
    "                from numpy.polynomial.polynomial import Polynomial\n",
    "                if len(main_df.dropna(subset=['coverage_percent', 'avg_download_speed_mbps'])) > 1:\n",
    "                    clean_data = main_df.dropna(subset=['coverage_percent', 'avg_download_speed_mbps'])\n",
    "                    p = Polynomial.fit(clean_data['coverage_percent'], clean_data['avg_download_speed_mbps'], 1)\n",
    "                    x_trend = np.linspace(main_df['coverage_percent'].min(), main_df['coverage_percent'].max(), 100)\n",
    "                    y_trend = p(x_trend)\n",
    "                    ax4.plot(x_trend, y_trend, 'r--', alpha=0.8, linewidth=2, label='Tendencia')\n",
    "                    ax4.legend()\n",
    "        \n",
    "        plt.tight_layout()\n",
    "        plt.show()\n",
    "    \n",
    "    print(\"✅ Dashboards ejecutivos generados exitosamente\")\n",
    "\n",
    "else:\n",
    "    print(\"❌ Dataset no disponible para generación de dashboards\")"
   ]
  },
  {
   "cell_type": "code",
   "execution_count": null,
   "id": "24734877",
   "metadata": {},
   "outputs": [
    {
     "name": "stderr",
     "output_type": "stream",
     "text": [
      "2025-06-19 23:47:38,487 - INFO - Dataset cargado para visualización: satellite_internet_sample\n",
      "2025-06-19 23:47:38,489 - INFO - Generando todas las visualizaciones...\n",
      "2025-06-19 23:47:38,489 - INFO - Generando todas las visualizaciones...\n"
     ]
    },
    {
     "name": "stdout",
     "output_type": "stream",
     "text": [
      "\n",
      "🎨 GENERANDO VISUALIZACIONES AVANZADAS\n",
      "==================================================\n",
      "\n",
      "📈 Generando todas las visualizaciones...\n"
     ]
    },
    {
     "name": "stderr",
     "output_type": "stream",
     "text": [
      "2025-06-19 23:47:38,657 - INFO - Mapa de cobertura guardado: ../visualizations\\coverage_map.html\n",
      "2025-06-19 23:47:38,659 - INFO - ✓ Mapa de Cobertura generado exitosamente\n",
      "2025-06-19 23:47:38,659 - INFO - ✓ Mapa de Cobertura generado exitosamente\n",
      "2025-06-19 23:47:39,549 - INFO - Gráfico de velocidades guardado: ../visualizations\\speed_comparison.png\n",
      "2025-06-19 23:47:39,550 - INFO - ✓ Comparación de Velocidades generado exitosamente\n",
      "2025-06-19 23:47:39,549 - INFO - Gráfico de velocidades guardado: ../visualizations\\speed_comparison.png\n",
      "2025-06-19 23:47:39,550 - INFO - ✓ Comparación de Velocidades generado exitosamente\n",
      "2025-06-19 23:47:39,643 - INFO - Análisis de costos guardado: ../visualizations\\cost_analysis.html\n",
      "2025-06-19 23:47:39,645 - INFO - ✓ Análisis de Costos generado exitosamente\n",
      "2025-06-19 23:47:39,643 - INFO - Análisis de costos guardado: ../visualizations\\cost_analysis.html\n",
      "2025-06-19 23:47:39,645 - INFO - ✓ Análisis de Costos generado exitosamente\n",
      "2025-06-19 23:47:41,193 - INFO - Análisis de latencia guardado: ../visualizations\\latency_analysis.png\n",
      "2025-06-19 23:47:41,194 - INFO - ✓ Análisis de Latencia generado exitosamente\n",
      "2025-06-19 23:47:41,193 - INFO - Análisis de latencia guardado: ../visualizations\\latency_analysis.png\n",
      "2025-06-19 23:47:41,194 - INFO - ✓ Análisis de Latencia generado exitosamente\n",
      "2025-06-19 23:47:41,284 - INFO - Dashboard guardado: ../visualizations\\dashboard_summary.html\n",
      "2025-06-19 23:47:41,286 - INFO - ✓ Dashboard Resumen generado exitosamente\n",
      "2025-06-19 23:47:41,286 - INFO - Visualizaciones completadas: 5/5\n",
      "2025-06-19 23:47:41,287 - INFO - Archivos guardados en: ../visualizations\n",
      "2025-06-19 23:47:41,284 - INFO - Dashboard guardado: ../visualizations\\dashboard_summary.html\n",
      "2025-06-19 23:47:41,286 - INFO - ✓ Dashboard Resumen generado exitosamente\n",
      "2025-06-19 23:47:41,286 - INFO - Visualizaciones completadas: 5/5\n",
      "2025-06-19 23:47:41,287 - INFO - Archivos guardados en: ../visualizations\n"
     ]
    },
    {
     "name": "stdout",
     "output_type": "stream",
     "text": [
      "\n",
      "✅ Visualizaciones guardadas en: ../visualizations/\n",
      "   • Los archivos HTML son interactivos (abrir en navegador)\n",
      "   • Los archivos PNG son estáticos (para presentaciones)\n"
     ]
    },
    {
     "data": {
      "image/png": "[encoded data removed]",
      "text/plain": [
       "<Figure size 1500x600 with 2 Axes>"
      ]
     },
     "metadata": {},
     "output_type": "display_data"
    },
    {
     "data": {
      "image/png": "[encoded data removed]",
      "text/plain": [
       "<Figure size 1500x1000 with 4 Axes>"
      ]
     },
     "metadata": {},
     "output_type": "display_data"
    }
   ],
   "source": [
    "# Integración con motor de visualización avanzado\n",
    "try:\n",
    "    from visualizer import SatelliteDataVisualizer\n",
    "    \n",
    "    print(\"\\n🎨 GENERANDO SUITE DE VISUALIZACIONES AVANZADAS\")\n",
    "    print(\"=\" * 50)\n",
    "    \n",
    "    # Configurar motor de visualización profesional\n",
    "    visualizer = SatelliteDataVisualizer(\n",
    "        data_dir=\"../data\", \n",
    "        output_dir=\"../visualizations\"\n",
    "    )\n",
    "    \n",
    "    print(\"\\n📊 Ejecutando generación completa de dashboards...\")\n",
    "    visualizer.generate_all_visualizations()\n",
    "    \n",
    "    print(f\"\\n✅ Suite de visualizaciones exportada exitosamente:\")\n",
    "    print(\"   📁 Directorio: ../visualizations/\")\n",
    "    print(\"   🌐 Archivos HTML: Dashboards interactivos (abrir en navegador)\")\n",
    "    print(\"   🖼️  Archivos PNG: Gráficos estáticos (para presentaciones ejecutivas)\")\n",
    "    print(\"   📊 Mapas geoespaciales: Análisis de cobertura territorial\")\n",
    "    \n",
    "except ImportError as e:\n",
    "    print(f\"⚠️  Motor de visualización no disponible: {e}\")\n",
    "    print(\"   Los dashboards ejecutivos ya fueron generados en la sección anterior\")\n",
    "except Exception as e:\n",
    "    print(f\"❌ Error en generación de visualizaciones avanzadas: {e}\")\n",
    "    print(\"   Análisis continuará con visualizaciones básicas disponibles\")"
   ]
  },
  {
   "cell_type": "markdown",
   "id": "3dd08d4e",
   "metadata": {},
   "source": [
    "## 6. Conclusiones Estratégicas y Reporte Ejecutivo\n",
    "\n",
    "Sintetizamos los hallazgos clave y generamos recomendaciones estratégicas basadas en el análisis de inteligencia competitiva."
   ]
  },
  {
   "cell_type": "code",
   "execution_count": null,
   "id": "b3f6c6b0",
   "metadata": {},
   "outputs": [
    {
     "name": "stderr",
     "output_type": "stream",
     "text": [
      "2025-06-19 23:47:42,094 - INFO - Resultados exportados a: ../analysis_results\n"
     ]
    },
    {
     "name": "stdout",
     "output_type": "stream",
     "text": [
      "📋 REPORTE FINAL DE ANÁLISIS\n",
      "============================================================\n",
      "=== REPORTE DE ANÁLISIS DE INTERNET SATELITAL ===\n",
      "\n",
      "Datasets disponibles: 1\n",
      "Total de registros: 50\n",
      "\n",
      "Dataset: satellite_internet_sample\n",
      "  - Registros: 50\n",
      "  - Columnas: 8\n",
      "  - Columnas numéricas: 6\n",
      "\n",
      "=== ANÁLISIS DE COBERTURA ===\n",
      "Top 5 países por cobertura:\n",
      "  - Canada: 68.5%\n",
      "  - UK: 67.1%\n",
      "  - China: 66.8%\n",
      "  - Australia: 59.4%\n",
      "  - Brazil: 59.2%\n",
      "\n",
      "=== COMPARACIÓN DE PROVEEDORES ===\n",
      "Starlink:\n",
      "  - countries_served: 10\n",
      "  - avg_coverage: 55.33\n",
      "  - avg_speed: 84.51\n",
      "  - avg_cost: 130.6\n",
      "  - avg_latency: 259.78\n",
      "\n",
      "OneWeb:\n",
      "  - countries_served: 10\n",
      "  - avg_coverage: 57.74\n",
      "  - avg_speed: 77.09\n",
      "  - avg_cost: 129.61\n",
      "  - avg_latency: 282.78\n",
      "\n",
      "Viasat:\n",
      "  - countries_served: 10\n",
      "  - avg_coverage: 54.12\n",
      "  - avg_speed: 95.97\n",
      "  - avg_cost: 124.96\n",
      "  - avg_latency: 281.23\n",
      "\n",
      "HughesNet:\n",
      "  - countries_served: 10\n",
      "  - avg_coverage: 48.79\n",
      "  - avg_speed: 87.86\n",
      "  - avg_cost: 98.06\n",
      "  - avg_latency: 401.45\n",
      "\n",
      "Iridium:\n",
      "  - countries_served: 10\n",
      "  - avg_coverage: 61.67\n",
      "  - avg_speed: 83.84\n",
      "  - avg_cost: 121.51\n",
      "  - avg_latency: 307.21\n",
      "\n",
      "\n",
      "💾 Exportando resultados del análisis...\n",
      "✅ Resultados exportados a: ../analysis_results/\n",
      "   • basic_statistics.csv - Estadísticas básicas\n",
      "   • summary_report.txt - Reporte completo\n",
      "\n",
      "📁 ARCHIVOS GENERADOS EN ESTE ANÁLISIS:\n",
      "--------------------------------------------------\n",
      "🗂️  Datos:\n",
      "   • ../data/ - 1 archivos CSV descargados\n",
      "\n",
      "📊 Visualizaciones:\n",
      "   • ../visualizations/ - 5 archivos de visualización\n",
      "     - cost_analysis.html\n",
      "     - coverage_map.html\n",
      "     - dashboard_summary.html\n",
      "     - latency_analysis.png\n",
      "     - speed_comparison.png\n",
      "\n",
      "📈 Análisis:\n",
      "   • ../analysis_results/ - 2 archivos de resultados\n",
      "     - basic_statistics.csv\n",
      "     - summary_report.txt\n",
      "\n",
      "🎉 ANÁLISIS COMPLETADO\n",
      "============================================================\n",
      "✅ Sistemas utilizados:\n",
      "   • data_downloader.py - Descarga automatizada de datos CSV\n",
      "   • data_analyzer.py - Análisis estadístico avanzado\n",
      "   • visualizer.py - Generación de gráficos profesionales\n",
      "   • analisis_satelite.ipynb - Notebook interactivo (este archivo)\n",
      "\n",
      "🚀 ¡El análisis de internet por satélite está completo!\n"
     ]
    }
   ],
   "source": [
    "# Generación de reporte ejecutivo basado en inteligencia competitiva\n",
    "print(\"📊 REPORTE EJECUTIVO - INTELIGENCIA COMPETITIVA\")\n",
    "print(\"=\" * 60)\n",
    "\n",
    "# Síntesis estratégica de hallazgos\n",
    "summary_report = analyzer.generate_summary_report()\n",
    "print(summary_report)\n",
    "\n",
    "# Exportación de entregables para stakeholders\n",
    "try:\n",
    "    print(\"\\n💼 Exportando entregables para stakeholders...\")\n",
    "    analyzer.export_analysis_results(output_dir=\"../analysis_results\")\n",
    "    print(\"✅ Entregables exportados exitosamente:\")\n",
    "    print(\"   • basic_statistics.csv - Métricas cuantitativas del mercado\")\n",
    "    print(\"   • summary_report.txt - Reporte ejecutivo completo\")\n",
    "except Exception as e:\n",
    "    print(f\"⚠️  Error en exportación: {e}\")\n",
    "\n",
    "# Inventario de assets generados\n",
    "print(f\"\\n📁 INVENTARIO DE ASSETS DE ANÁLISIS:\")\n",
    "print(\"-\" * 50)\n",
    "print(\"🗂️  Datasets:\")\n",
    "print(f\"   • ../data/ - {len(csv_files)} fuentes de datos procesadas\")\n",
    "\n",
    "print(\"\\n📊 Visualizaciones Interactivas:\")\n",
    "if os.path.exists(\"../visualizations\"):\n",
    "    viz_files = os.listdir(\"../visualizations\")\n",
    "    print(f\"   • ../visualizations/ - {len(viz_files)} dashboards y mapas\")\n",
    "    for file in viz_files[:5]:  # Mostrar primeros 5\n",
    "        print(f\"     - {file}\")\n",
    "    if len(viz_files) > 5:\n",
    "        print(f\"     ... y {len(viz_files) - 5} assets adicionales\")\n",
    "else:\n",
    "    print(\"   • Assets de visualización no disponibles\")\n",
    "\n",
    "print(\"\\n📈 Reportes Analíticos:\")\n",
    "if os.path.exists(\"../analysis_results\"):\n",
    "    analysis_files = os.listdir(\"../analysis_results\")\n",
    "    print(f\"   • ../analysis_results/ - {len(analysis_files)} reportes generados\")\n",
    "    for file in analysis_files:\n",
    "        print(f\"     - {file}\")\n",
    "else:\n",
    "    print(\"   • Reportes no exportados\")\n",
    "\n",
    "print(f\"\\n🎯 ANÁLISIS ESTRATÉGICO COMPLETADO\")\n",
    "print(\"=\" * 60)\n",
    "print(\"✅ Plataforma de análisis ejecutada exitosamente:\")\n",
    "print(\"   • data_downloader.py - Pipeline automatizado de ingesta de datos\")\n",
    "print(\"   • data_analyzer.py - Motor de análisis estadístico y métricas KPI\") \n",
    "print(\"   • visualizer.py - Motor de visualización y dashboards interactivos\")\n",
    "print(\"   • analisis_satelite.ipynb - Plataforma de análisis profesional\")\n",
    "print(\"\\n🚀 ¡Inteligencia de negocio para internet satelital generada exitosamente!\")"
   ]
  }
 ],
 "metadata": {
  "kernelspec": {
   "display_name": ".venv",
   "language": "python",
   "name": "python3"
  },
  "language_info": {
   "codemirror_mode": {
    "name": "ipython",
    "version": 3
   },
   "file_extension": ".py",
   "mimetype": "text/x-python",
   "name": "python",
   "nbconvert_exporter": "python",
   "pygments_lexer": "ipython3",
   "version": "3.11.9"
  }
 },
 "nbformat": 4,
 "nbformat_minor": 5
}
